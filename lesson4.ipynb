{
 "cells": [
  {
   "cell_type": "markdown",
   "metadata": {},
   "source": [
    "## Initialize"
   ]
  },
  {
   "cell_type": "code",
   "execution_count": 43,
   "metadata": {
    "ExecuteTime": {
     "end_time": "2017-07-25T01:51:53.736349Z",
     "start_time": "2017-07-25T01:51:53.731542Z"
    }
   },
   "outputs": [
    {
     "data": {
      "application/javascript": [
       "IPython.OutputArea.auto_scroll_threshold = 9999;"
      ],
      "text/plain": [
       "<IPython.core.display.Javascript object>"
      ]
     },
     "metadata": {},
     "output_type": "display_data"
    }
   ],
   "source": [
    "%%javascript\n",
    "IPython.OutputArea.auto_scroll_threshold = 9999;"
   ]
  },
  {
   "cell_type": "code",
   "execution_count": 1,
   "metadata": {
    "ExecuteTime": {
     "end_time": "2017-07-25T00:55:28.931893Z",
     "start_time": "2017-07-25T00:55:23.310772Z"
    },
    "scrolled": true
   },
   "outputs": [
    {
     "name": "stderr",
     "output_type": "stream",
     "text": [
      "WARNING (theano.sandbox.cuda): The cuda backend is deprecated and will be removed in the next release (v0.10).  Please switch to the gpuarray backend. You can get more information about how to switch at this URL:\n",
      " https://github.com/Theano/Theano/wiki/Converting-to-the-new-gpu-back-end%28gpuarray%29\n",
      "\n",
      "Using gpu device 0: Tesla K80 (CNMeM is disabled, cuDNN 5103)\n"
     ]
    }
   ],
   "source": [
    "from theano.sandbox import cuda"
   ]
  },
  {
   "cell_type": "code",
   "execution_count": 2,
   "metadata": {
    "ExecuteTime": {
     "end_time": "2017-07-25T00:55:29.636641Z",
     "start_time": "2017-07-25T00:55:28.934370Z"
    },
    "scrolled": true
   },
   "outputs": [
    {
     "name": "stderr",
     "output_type": "stream",
     "text": [
      "Using Theano backend.\n"
     ]
    }
   ],
   "source": [
    "%matplotlib inline\n",
    "import utils; reload(utils)\n",
    "from utils import *\n",
    "from __future__ import division, print_function"
   ]
  },
  {
   "cell_type": "code",
   "execution_count": 3,
   "metadata": {
    "ExecuteTime": {
     "end_time": "2017-07-25T00:55:29.642948Z",
     "start_time": "2017-07-25T00:55:29.638701Z"
    },
    "collapsed": true,
    "scrolled": true
   },
   "outputs": [],
   "source": [
    "path = \"data/ml-20m/\"\n",
    "#path = \"data/ml-latest-small/\"\n",
    "model_path = path + 'models/'\n",
    "if not os.path.exists(model_path): os.mkdir(model_path)"
   ]
  },
  {
   "cell_type": "code",
   "execution_count": 4,
   "metadata": {
    "ExecuteTime": {
     "end_time": "2017-07-25T00:55:29.648313Z",
     "start_time": "2017-07-25T00:55:29.645078Z"
    },
    "collapsed": true,
    "scrolled": true
   },
   "outputs": [],
   "source": [
    "batch_size=16384"
   ]
  },
  {
   "cell_type": "markdown",
   "metadata": {},
   "source": [
    "## Set up data"
   ]
  },
  {
   "cell_type": "markdown",
   "metadata": {},
   "source": [
    "We're working with the movielens data, which contains one rating per row, like this:"
   ]
  },
  {
   "cell_type": "code",
   "execution_count": 5,
   "metadata": {
    "ExecuteTime": {
     "end_time": "2017-07-25T00:55:42.622191Z",
     "start_time": "2017-07-25T00:55:29.650134Z"
    },
    "scrolled": false
   },
   "outputs": [
    {
     "data": {
      "text/html": [
       "<div>\n",
       "<style>\n",
       "    .dataframe thead tr:only-child th {\n",
       "        text-align: right;\n",
       "    }\n",
       "\n",
       "    .dataframe thead th {\n",
       "        text-align: left;\n",
       "    }\n",
       "\n",
       "    .dataframe tbody tr th {\n",
       "        vertical-align: top;\n",
       "    }\n",
       "</style>\n",
       "<table border=\"1\" class=\"dataframe\">\n",
       "  <thead>\n",
       "    <tr style=\"text-align: right;\">\n",
       "      <th></th>\n",
       "      <th>userId</th>\n",
       "      <th>movieId</th>\n",
       "      <th>rating</th>\n",
       "      <th>timestamp</th>\n",
       "      <th>time</th>\n",
       "      <th>weekday</th>\n",
       "      <th>month</th>\n",
       "      <th>hour</th>\n",
       "    </tr>\n",
       "  </thead>\n",
       "  <tbody>\n",
       "    <tr>\n",
       "      <th>0</th>\n",
       "      <td>1</td>\n",
       "      <td>2</td>\n",
       "      <td>3.5</td>\n",
       "      <td>1112486027</td>\n",
       "      <td>2005-04-02 23:53:47</td>\n",
       "      <td>5</td>\n",
       "      <td>3</td>\n",
       "      <td>23</td>\n",
       "    </tr>\n",
       "    <tr>\n",
       "      <th>1</th>\n",
       "      <td>1</td>\n",
       "      <td>29</td>\n",
       "      <td>3.5</td>\n",
       "      <td>1112484676</td>\n",
       "      <td>2005-04-02 23:31:16</td>\n",
       "      <td>5</td>\n",
       "      <td>3</td>\n",
       "      <td>23</td>\n",
       "    </tr>\n",
       "    <tr>\n",
       "      <th>2</th>\n",
       "      <td>1</td>\n",
       "      <td>32</td>\n",
       "      <td>3.5</td>\n",
       "      <td>1112484819</td>\n",
       "      <td>2005-04-02 23:33:39</td>\n",
       "      <td>5</td>\n",
       "      <td>3</td>\n",
       "      <td>23</td>\n",
       "    </tr>\n",
       "    <tr>\n",
       "      <th>3</th>\n",
       "      <td>1</td>\n",
       "      <td>47</td>\n",
       "      <td>3.5</td>\n",
       "      <td>1112484727</td>\n",
       "      <td>2005-04-02 23:32:07</td>\n",
       "      <td>5</td>\n",
       "      <td>3</td>\n",
       "      <td>23</td>\n",
       "    </tr>\n",
       "    <tr>\n",
       "      <th>4</th>\n",
       "      <td>1</td>\n",
       "      <td>50</td>\n",
       "      <td>3.5</td>\n",
       "      <td>1112484580</td>\n",
       "      <td>2005-04-02 23:29:40</td>\n",
       "      <td>5</td>\n",
       "      <td>3</td>\n",
       "      <td>23</td>\n",
       "    </tr>\n",
       "  </tbody>\n",
       "</table>\n",
       "</div>"
      ],
      "text/plain": [
       "   userId  movieId  rating   timestamp                time  weekday  month  \\\n",
       "0       1        2     3.5  1112486027 2005-04-02 23:53:47        5      3   \n",
       "1       1       29     3.5  1112484676 2005-04-02 23:31:16        5      3   \n",
       "2       1       32     3.5  1112484819 2005-04-02 23:33:39        5      3   \n",
       "3       1       47     3.5  1112484727 2005-04-02 23:32:07        5      3   \n",
       "4       1       50     3.5  1112484580 2005-04-02 23:29:40        5      3   \n",
       "\n",
       "   hour  \n",
       "0    23  \n",
       "1    23  \n",
       "2    23  \n",
       "3    23  \n",
       "4    23  "
      ]
     },
     "execution_count": 5,
     "metadata": {},
     "output_type": "execute_result"
    }
   ],
   "source": [
    "ratings = pd.read_csv(path+'ratings.csv', dtype={'userId':'int','movieId':'int','rating':'float','timestamp':'int'})\n",
    "ratings = ratings.assign(time = pd.to_datetime(ratings.timestamp, unit='s'))\n",
    "ratings = ratings.assign(weekday = pd.DatetimeIndex(ratings.time).dayofweek)\n",
    "ratings = ratings.assign(month = pd.DatetimeIndex(ratings.time).month-1)\n",
    "ratings = ratings.assign(hour = pd.DatetimeIndex(ratings.time).hour)\n",
    "ratings.head()"
   ]
  },
  {
   "cell_type": "markdown",
   "metadata": {},
   "source": [
    "Just for display purposes, let's read in the movie names too."
   ]
  },
  {
   "cell_type": "code",
   "execution_count": 6,
   "metadata": {
    "ExecuteTime": {
     "end_time": "2017-07-25T00:55:42.990453Z",
     "start_time": "2017-07-25T00:55:42.624572Z"
    },
    "collapsed": true,
    "scrolled": true
   },
   "outputs": [],
   "source": [
    "users = ratings.userId.unique()\n",
    "movies = ratings.movieId.unique()"
   ]
  },
  {
   "cell_type": "code",
   "execution_count": 7,
   "metadata": {
    "ExecuteTime": {
     "end_time": "2017-07-25T00:55:43.052076Z",
     "start_time": "2017-07-25T00:55:42.992608Z"
    },
    "collapsed": true,
    "scrolled": true
   },
   "outputs": [],
   "source": [
    "userid2idx = dict.fromkeys(users)\n",
    "movieid2idx = dict.fromkeys(movies)\n",
    "\n",
    "for i,o in enumerate(users):\n",
    "   userid2idx[o] = i\n",
    "\n",
    "for i,o in enumerate(movies):\n",
    "   movieid2idx[o] = i"
   ]
  },
  {
   "cell_type": "markdown",
   "metadata": {},
   "source": [
    "We update the movie and user ids so that they are contiguous integers, which we want when using embeddings."
   ]
  },
  {
   "cell_type": "code",
   "execution_count": 8,
   "metadata": {
    "ExecuteTime": {
     "end_time": "2017-07-25T00:56:02.845271Z",
     "start_time": "2017-07-25T00:55:43.054165Z"
    },
    "collapsed": true,
    "scrolled": true
   },
   "outputs": [],
   "source": [
    "ratings.movieId = ratings.movieId.apply(lambda x: movieid2idx[x])\n",
    "ratings.userId = ratings.userId.apply(lambda x: userid2idx[x])"
   ]
  },
  {
   "cell_type": "code",
   "execution_count": 9,
   "metadata": {
    "ExecuteTime": {
     "end_time": "2017-07-25T00:56:03.457970Z",
     "start_time": "2017-07-25T00:56:02.847468Z"
    },
    "scrolled": true
   },
   "outputs": [
    {
     "data": {
      "text/plain": [
       "(138493, 26744, 7, 12, 24)"
      ]
     },
     "execution_count": 9,
     "metadata": {},
     "output_type": "execute_result"
    }
   ],
   "source": [
    "n_users = ratings.userId.nunique()\n",
    "n_movies = ratings.movieId.nunique()\n",
    "n_weekdays = ratings.weekday.nunique()\n",
    "n_months = ratings.month.nunique()\n",
    "n_hours = ratings.hour.nunique()\n",
    "n_users, n_movies, n_weekdays, n_months, n_hours"
   ]
  },
  {
   "cell_type": "code",
   "execution_count": 10,
   "metadata": {
    "ExecuteTime": {
     "end_time": "2017-07-25T00:56:03.462536Z",
     "start_time": "2017-07-25T00:56:03.459715Z"
    },
    "collapsed": true,
    "scrolled": true
   },
   "outputs": [],
   "source": [
    "#np.random.seed = 42"
   ]
  },
  {
   "cell_type": "markdown",
   "metadata": {},
   "source": [
    "Randomly split into training and validation."
   ]
  },
  {
   "cell_type": "code",
   "execution_count": 11,
   "metadata": {
    "ExecuteTime": {
     "end_time": "2017-07-25T00:56:05.710900Z",
     "start_time": "2017-07-25T00:56:03.464493Z"
    },
    "collapsed": true,
    "scrolled": true
   },
   "outputs": [],
   "source": [
    "msk = np.random.rand(len(ratings)) < 0.8\n",
    "trn = ratings[msk]\n",
    "val = ratings[~msk]"
   ]
  },
  {
   "cell_type": "markdown",
   "metadata": {},
   "source": [
    "##  Neural net"
   ]
  },
  {
   "cell_type": "markdown",
   "metadata": {},
   "source": [
    "Rather than creating a special purpose architecture (like our dot-product with bias earlier), it's often both easier and more accurate to use a standard neural network. Let's try it! Here, we simply concatenate the user and movie embeddings into a single vector, which we feed into the neural net."
   ]
  },
  {
   "cell_type": "code",
   "execution_count": 54,
   "metadata": {
    "ExecuteTime": {
     "end_time": "2017-07-25T02:09:53.633745Z",
     "start_time": "2017-07-25T02:09:53.067449Z"
    },
    "collapsed": true,
    "scrolled": false
   },
   "outputs": [],
   "source": [
    "user_in = Input(shape=(1,), dtype='int64', name='user')\n",
    "movie_in = Input(shape=(1,), dtype='int64', name='movie')\n",
    "weekday_in = Input(shape=(1,), dtype='int64', name='weekday')\n",
    "month_in = Input(shape=(1,), dtype='int64', name='month')\n",
    "hour_in = Input(shape=(1,), dtype='int64', name='hour')\n",
    "\n",
    "user_latents = Embedding(n_users, 4, input_length=1, name='user latents')\n",
    "movie_latents = Embedding(n_movies, 6, input_length=1, name='movie latents')\n",
    "weekday_latents = Embedding(n_weekdays, 2, input_length=1, name='weekday latents')\n",
    "month_latents = Embedding(n_months, 2, input_length=1, name='month latents')\n",
    "hour_latents = Embedding(n_hours, 2, input_length=1, name='hour latents')\n",
    "\n",
    "x = Concatenate(name='merge latents')([user_latents(user_in),\n",
    "                                       movie_latents(movie_in),\n",
    "                                       weekday_latents(weekday_in),\n",
    "                                       month_latents(month_in),\n",
    "                                       hour_latents(hour_in)])\n",
    "x = BatchNormalization()(x)\n",
    "x = Flatten()(x)\n",
    "x = Dropout(0.5)(x)\n",
    "\n",
    "x = Dense(1, name='collapse')(x)\n",
    "x = GaussianNoise(0.25)(x)\n",
    "\n",
    "nn = Model([user_in, movie_in, weekday_in, month_in, hour_in], x)\n",
    "# nn = Model([user_in, movie_in], x)\n",
    "nn.compile(Nadam(0.01, schedule_decay=0.004), loss='mse')"
   ]
  },
  {
   "cell_type": "code",
   "execution_count": 55,
   "metadata": {
    "ExecuteTime": {
     "end_time": "2017-07-25T02:09:55.251257Z",
     "start_time": "2017-07-25T02:09:54.830986Z"
    },
    "scrolled": false
   },
   "outputs": [
    {
     "name": "stdout",
     "output_type": "stream",
     "text": [
      "____________________________________________________________________________________________________\n",
      "Layer (type)                     Output Shape          Param #     Connected to                     \n",
      "====================================================================================================\n",
      "user (InputLayer)                (None, 1)             0                                            \n",
      "____________________________________________________________________________________________________\n",
      "movie (InputLayer)               (None, 1)             0                                            \n",
      "____________________________________________________________________________________________________\n",
      "weekday (InputLayer)             (None, 1)             0                                            \n",
      "____________________________________________________________________________________________________\n",
      "month (InputLayer)               (None, 1)             0                                            \n",
      "____________________________________________________________________________________________________\n",
      "hour (InputLayer)                (None, 1)             0                                            \n",
      "____________________________________________________________________________________________________\n",
      "user latents (Embedding)         (None, 1, 4)          553972                                       \n",
      "____________________________________________________________________________________________________\n",
      "movie latents (Embedding)        (None, 1, 6)          160464                                       \n",
      "____________________________________________________________________________________________________\n",
      "weekday latents (Embedding)      (None, 1, 2)          14                                           \n",
      "____________________________________________________________________________________________________\n",
      "month latents (Embedding)        (None, 1, 2)          24                                           \n",
      "____________________________________________________________________________________________________\n",
      "hour latents (Embedding)         (None, 1, 2)          48                                           \n",
      "____________________________________________________________________________________________________\n",
      "merge latents (Concatenate)      (None, 1, 16)         0                                            \n",
      "____________________________________________________________________________________________________\n",
      "batch_normalization_16 (BatchNor (None, 1, 16)         64                                           \n",
      "____________________________________________________________________________________________________\n",
      "flatten_13 (Flatten)             (None, 16)            0                                            \n",
      "____________________________________________________________________________________________________\n",
      "dropout_13 (Dropout)             (None, 16)            0                                            \n",
      "____________________________________________________________________________________________________\n",
      "collapse (Dense)                 (None, 1)             17                                           \n",
      "____________________________________________________________________________________________________\n",
      "gaussian_noise_13 (GaussianNoise (None, 1)             0                                            \n",
      "====================================================================================================\n",
      "Total params: 714,603.0\n",
      "Trainable params: 714,571.0\n",
      "Non-trainable params: 32.0\n",
      "____________________________________________________________________________________________________\n"
     ]
    }
   ],
   "source": [
    "nn.summary()"
   ]
  },
  {
   "cell_type": "code",
   "execution_count": 56,
   "metadata": {
    "ExecuteTime": {
     "end_time": "2017-07-25T02:14:24.805134Z",
     "start_time": "2017-07-25T02:09:57.292214Z"
    },
    "scrolled": true
   },
   "outputs": [
    {
     "name": "stdout",
     "output_type": "stream",
     "text": [
      "Train on 15998906 samples, validate on 4001357 samples\n",
      "Epoch 1/8\n",
      "15998906/15998906 [==============================] - 32s - loss: 1.5313 - val_loss: 0.7720\n",
      "Epoch 2/8\n",
      "15998906/15998906 [==============================] - 33s - loss: 0.9076 - val_loss: 0.7561\n",
      "Epoch 3/8\n",
      "15998906/15998906 [==============================] - 32s - loss: 0.8687 - val_loss: 0.7549\n",
      "Epoch 4/8\n",
      "15998906/15998906 [==============================] - 32s - loss: 0.8654 - val_loss: 0.7532\n",
      "Epoch 5/8\n",
      "15998906/15998906 [==============================] - 32s - loss: 0.8644 - val_loss: 0.7496\n",
      "Epoch 6/8\n",
      "15998906/15998906 [==============================] - 32s - loss: 0.8629 - val_loss: 0.7526\n",
      "Epoch 7/8\n",
      "15998906/15998906 [==============================] - 32s - loss: 0.8619 - val_loss: 0.7516\n",
      "Epoch 8/8\n",
      "15998906/15998906 [==============================] - 32s - loss: 0.8612 - val_loss: 0.7473\n"
     ]
    },
    {
     "data": {
      "text/plain": [
       "0.009999999776482582"
      ]
     },
     "execution_count": 56,
     "metadata": {},
     "output_type": "execute_result"
    }
   ],
   "source": [
    "nn.fit([trn.userId, trn.movieId, trn.weekday, trn.month, trn.hour], trn.rating, batch_size=batch_size, epochs=8, \n",
    "          validation_data=([val.userId, val.movieId, val.weekday, val.month, val.hour], val.rating))\n",
    "nn.optimizer.get_config()['lr']"
   ]
  },
  {
   "cell_type": "code",
   "execution_count": null,
   "metadata": {
    "ExecuteTime": {
     "start_time": "2017-07-25T03:07:11.645Z"
    },
    "collapsed": true,
    "scrolled": true
   },
   "outputs": [],
   "source": [
    "nn.optimizer.lr.set_value(nn.optimizer.get_config()['lr']/10)\n",
    "nn.fit([trn.userId, trn.movieId, trn.weekday, trn.month, trn.hour], trn.rating, batch_size=batch_size, epochs=4,\n",
    "          validation_data=([val.userId, val.movieId, val.weekday, val.month, val.hour], val.rating))\n",
    "nn.optimizer.get_config()['lr']"
   ]
  },
  {
   "cell_type": "markdown",
   "metadata": {
    "heading_collapsed": true
   },
   "source": [
    "## Use Pseudo-labeling from that first model, and re-learn with the supplemental data"
   ]
  },
  {
   "cell_type": "code",
   "execution_count": 45,
   "metadata": {
    "ExecuteTime": {
     "end_time": "2017-07-25T01:59:20.720918Z",
     "start_time": "2017-07-25T01:59:17.197900Z"
    },
    "collapsed": true,
    "hidden": true,
    "scrolled": true
   },
   "outputs": [],
   "source": [
    "val_pseudo = nn.predict([val.userId, val.movieId, val.weekday, val.month, val.hour], batch_size=batch_size)"
   ]
  },
  {
   "cell_type": "code",
   "execution_count": 46,
   "metadata": {
    "ExecuteTime": {
     "end_time": "2017-07-25T01:59:25.011669Z",
     "start_time": "2017-07-25T01:59:24.946937Z"
    },
    "collapsed": true,
    "hidden": true,
    "scrolled": true
   },
   "outputs": [],
   "source": [
    "comb_ratings = np.concatenate([trn.rating.values.reshape([-1,1]), val_pseudo])"
   ]
  },
  {
   "cell_type": "code",
   "execution_count": 47,
   "metadata": {
    "ExecuteTime": {
     "end_time": "2017-07-25T01:59:28.789387Z",
     "start_time": "2017-07-25T01:59:28.488597Z"
    },
    "collapsed": true,
    "hidden": true,
    "scrolled": true
   },
   "outputs": [],
   "source": [
    "comb_userid = np.concatenate([trn.userId, val.userId])\n",
    "comb_movieid = np.concatenate([trn.movieId, val.movieId])\n",
    "comb_weekday = np.concatenate([trn.weekday, val.weekday])\n",
    "comb_month = np.concatenate([trn.month, val.month])\n",
    "comb_hour = np.concatenate([trn.hour, val.hour])"
   ]
  },
  {
   "cell_type": "code",
   "execution_count": 48,
   "metadata": {
    "ExecuteTime": {
     "end_time": "2017-07-25T02:00:50.851847Z",
     "start_time": "2017-07-25T01:59:30.409437Z"
    },
    "hidden": true,
    "scrolled": true
   },
   "outputs": [
    {
     "name": "stdout",
     "output_type": "stream",
     "text": [
      "Train on 20000263 samples, validate on 4001357 samples\n",
      "Epoch 1/2\n",
      "20000263/20000263 [==============================] - 40s - loss: 0.7034 - val_loss: 0.7491\n",
      "Epoch 2/2\n",
      "20000263/20000263 [==============================] - 40s - loss: 0.7032 - val_loss: 0.7489\n"
     ]
    },
    {
     "data": {
      "text/plain": [
       "<keras.callbacks.History at 0x7f8dd8abc290>"
      ]
     },
     "execution_count": 48,
     "metadata": {},
     "output_type": "execute_result"
    }
   ],
   "source": [
    "nn.fit([comb_userid, comb_movieid, comb_weekday, comb_month, comb_hour], comb_ratings, batch_size=batch_size, epochs=2,\n",
    "      validation_data =([val.userId, val.movieId, val.weekday, val.month, val.hour], val.rating))"
   ]
  },
  {
   "cell_type": "code",
   "execution_count": 49,
   "metadata": {
    "ExecuteTime": {
     "end_time": "2017-07-25T02:04:22.529788Z",
     "start_time": "2017-07-25T02:03:02.349577Z"
    },
    "hidden": true,
    "scrolled": true
   },
   "outputs": [
    {
     "name": "stdout",
     "output_type": "stream",
     "text": [
      "Train on 20000263 samples, validate on 4001357 samples\n",
      "Epoch 1/2\n",
      "20000263/20000263 [==============================] - 40s - loss: 0.7024 - val_loss: 0.7491\n",
      "Epoch 2/2\n",
      "20000263/20000263 [==============================] - 40s - loss: 0.7026 - val_loss: 0.7491\n"
     ]
    },
    {
     "data": {
      "text/plain": [
       "<keras.callbacks.History at 0x7f8dce27b9d0>"
      ]
     },
     "execution_count": 49,
     "metadata": {},
     "output_type": "execute_result"
    }
   ],
   "source": [
    "nn.optimizer.lr.set_value(nn.optimizer.get_config()['lr']/10)\n",
    "nn.fit([comb_userid, comb_movieid, comb_weekday, comb_month, comb_hour], comb_ratings, batch_size=batch_size, epochs=2,\n",
    "      validation_data =([val.userId, val.movieId, val.weekday, val.month, val.hour], val.rating))"
   ]
  },
  {
   "cell_type": "markdown",
   "metadata": {},
   "source": [
    "## Analyze Results"
   ]
  },
  {
   "cell_type": "code",
   "execution_count": null,
   "metadata": {
    "collapsed": true,
    "scrolled": true
   },
   "outputs": [],
   "source": [
    "movie_names = pd.read_csv(path+'movies.csv').set_index('movieId')['title'].to_dict()\n",
    "def create_bias(inp, n_in):\n",
    "    x = Embedding(n_in, 1, input_length=1)(inp)\n",
    "    return Flatten()(x)\n",
    "ub = create_bias(user_in, n_users)\n",
    "mb = create_bias(movie_in, n_movies)g=ratings.groupby('movieId')['rating'].count()\n",
    "topMovies=g.sort_values(ascending=False)\n",
    "topMovies = np.array(topMovies.index)\n",
    "get_movie_bias = Model(movie_in, mb)\n",
    "movie_bias = get_movie_bias.predict(topMovies)\n",
    "movie_ratings = [(b[0], movie_names[movies[i]]) for i,b in zip(topMovies,movie_bias)]\n",
    "sorted(movie_ratings, key=itemgetter(0), reverse=True)[:15]"
   ]
  },
  {
   "cell_type": "code",
   "execution_count": null,
   "metadata": {
    "collapsed": true,
    "scrolled": true
   },
   "outputs": [],
   "source": [
    "get_movie_emb = Model(movie_in, m)\n",
    "movie_emb = np.squeeze(get_movie_emb.predict([topMovies]))\n",
    "movie_emb.shape"
   ]
  },
  {
   "cell_type": "code",
   "execution_count": null,
   "metadata": {
    "collapsed": true,
    "scrolled": true
   },
   "outputs": [],
   "source": [
    "from sklearn.decomposition import PCA\n",
    "pca = PCA(n_components=2)\n",
    "movie_pca = pca.fit(movie_emb.T).components_\n",
    "fac0 = movie_pca[0]\n",
    "movie_comp = [(f, movie_names[movies[i]]) for f,i in zip(fac0, topMovies)]\n",
    "sorted(movie_comp, key=itemgetter(0), reverse=True)[:10]"
   ]
  },
  {
   "cell_type": "code",
   "execution_count": null,
   "metadata": {
    "collapsed": true,
    "scrolled": true
   },
   "outputs": [],
   "source": [
    "sorted(movie_comp, key=itemgetter(0))[:10]"
   ]
  },
  {
   "cell_type": "code",
   "execution_count": null,
   "metadata": {
    "collapsed": true,
    "scrolled": true
   },
   "outputs": [],
   "source": [
    "fac1 = movie_pca[1]\n",
    "movie_comp = [(f, movie_names[movies[i]]) for f,i in zip(fac1, topMovies)]\n",
    "sorted(movie_comp, key=itemgetter(0), reverse=True)[:10]"
   ]
  },
  {
   "cell_type": "code",
   "execution_count": null,
   "metadata": {
    "collapsed": true,
    "scrolled": true
   },
   "outputs": [],
   "source": [
    "sorted(movie_comp, key=itemgetter(0))[:10]"
   ]
  },
  {
   "cell_type": "code",
   "execution_count": null,
   "metadata": {
    "collapsed": true,
    "scrolled": true
   },
   "outputs": [],
   "source": [
    "import sys\n",
    "stdout, stderr = sys.stdout, sys.stderr # save notebook stdout and stderr\n",
    "reload(sys)\n",
    "sys.setdefaultencoding('utf-8')\n",
    "sys.stdout, sys.stderr = stdout, stderr # restore notebook stdout and stderr"
   ]
  },
  {
   "cell_type": "code",
   "execution_count": null,
   "metadata": {
    "collapsed": true,
    "scrolled": true
   },
   "outputs": [],
   "source": [
    "start=0; end=50\n",
    "X = fac0[start:end]\n",
    "Y = fac1[start:end]\n",
    "plt.figure(figsize=(15,15))\n",
    "plt.scatter(X, Y)\n",
    "for i, x, y in zip(topMovies[start:end], X, Y):\n",
    "    plt.text(x,y,movie_names[movies[i]], color=np.random.rand(3)*0.7, fontsize=11)\n",
    "plt.show()"
   ]
  },
  {
   "cell_type": "code",
   "execution_count": null,
   "metadata": {
    "collapsed": true,
    "scrolled": true
   },
   "outputs": [],
   "source": []
  }
 ],
 "metadata": {
  "kernelspec": {
   "display_name": "Python [conda root]",
   "language": "python",
   "name": "conda-root-py"
  },
  "language_info": {
   "codemirror_mode": {
    "name": "ipython",
    "version": 2
   },
   "file_extension": ".py",
   "mimetype": "text/x-python",
   "name": "python",
   "nbconvert_exporter": "python",
   "pygments_lexer": "ipython2",
   "version": "2.7.13"
  },
  "toc": {
   "colors": {
    "hover_highlight": "#DAA520",
    "navigate_num": "#000000",
    "navigate_text": "#333333",
    "running_highlight": "#FF0000",
    "selected_highlight": "#FFD700",
    "sidebar_border": "#EEEEEE",
    "wrapper_background": "#FFFFFF"
   },
   "moveMenuLeft": true,
   "nav_menu": {
    "height": "135px",
    "width": "252px"
   },
   "navigate_menu": true,
   "number_sections": true,
   "sideBar": true,
   "threshold": 4,
   "toc_cell": false,
   "toc_section_display": "block",
   "toc_window_display": true,
   "widenNotebook": false
  }
 },
 "nbformat": 4,
 "nbformat_minor": 1
}
