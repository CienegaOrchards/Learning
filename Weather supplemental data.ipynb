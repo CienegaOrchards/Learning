{
 "cells": [
  {
   "cell_type": "code",
   "execution_count": 1,
   "metadata": {
    "ExecuteTime": {
     "end_time": "2017-08-04T21:59:42.629405Z",
     "start_time": "2017-08-04T21:59:42.617675Z"
    },
    "init_cell": true
   },
   "outputs": [
    {
     "data": {
      "application/javascript": [
       "IPython.OutputArea.auto_scroll_threshold = 9999;"
      ],
      "text/plain": [
       "<IPython.core.display.Javascript object>"
      ]
     },
     "metadata": {},
     "output_type": "display_data"
    }
   ],
   "source": [
    "%%javascript\n",
    "IPython.OutputArea.auto_scroll_threshold = 9999;"
   ]
  },
  {
   "cell_type": "code",
   "execution_count": 2,
   "metadata": {
    "ExecuteTime": {
     "end_time": "2017-08-04T22:00:00.757285Z",
     "start_time": "2017-08-04T21:59:42.631171Z"
    },
    "init_cell": true
   },
   "outputs": [
    {
     "name": "stderr",
     "output_type": "stream",
     "text": [
      "Using TensorFlow backend.\n"
     ]
    }
   ],
   "source": [
    "%matplotlib inline\n",
    "import utils\n",
    "from utils import *\n",
    "from __future__ import division, print_function"
   ]
  },
  {
   "cell_type": "code",
   "execution_count": 3,
   "metadata": {
    "ExecuteTime": {
     "end_time": "2017-08-04T22:00:00.762368Z",
     "start_time": "2017-08-04T22:00:00.759203Z"
    },
    "collapsed": true,
    "init_cell": true
   },
   "outputs": [],
   "source": [
    "path = \"data/weather/\"\n",
    "model_path = path + 'models/'\n",
    "batch_size=1024"
   ]
  },
  {
   "cell_type": "code",
   "execution_count": 267,
   "metadata": {
    "ExecuteTime": {
     "end_time": "2017-08-05T00:08:16.715086Z",
     "start_time": "2017-08-05T00:08:16.252839Z"
    },
    "init_cell": true
   },
   "outputs": [
    {
     "data": {
      "text/html": [
       "<div>\n",
       "<style>\n",
       "    .dataframe thead tr:only-child th {\n",
       "        text-align: right;\n",
       "    }\n",
       "\n",
       "    .dataframe thead th {\n",
       "        text-align: left;\n",
       "    }\n",
       "\n",
       "    .dataframe tbody tr th {\n",
       "        vertical-align: top;\n",
       "    }\n",
       "</style>\n",
       "<table border=\"1\" class=\"dataframe\">\n",
       "  <thead>\n",
       "    <tr style=\"text-align: right;\">\n",
       "      <th></th>\n",
       "      <th>TemperatureF</th>\n",
       "      <th>DewpointF</th>\n",
       "      <th>PressureIn</th>\n",
       "      <th>WindSpeedMPH</th>\n",
       "      <th>WindSpeedGustMPH</th>\n",
       "      <th>Humidity</th>\n",
       "      <th>HourlyPrecipIn</th>\n",
       "      <th>dailyrainin</th>\n",
       "      <th>SolarRadiationWatts/m^2</th>\n",
       "      <th>forward_min</th>\n",
       "      <th>day_of_year</th>\n",
       "      <th>hour</th>\n",
       "      <th>threshold</th>\n",
       "      <th>threshold_32</th>\n",
       "      <th>threshold_no</th>\n",
       "    </tr>\n",
       "    <tr>\n",
       "      <th>DateUTC</th>\n",
       "      <th></th>\n",
       "      <th></th>\n",
       "      <th></th>\n",
       "      <th></th>\n",
       "      <th></th>\n",
       "      <th></th>\n",
       "      <th></th>\n",
       "      <th></th>\n",
       "      <th></th>\n",
       "      <th></th>\n",
       "      <th></th>\n",
       "      <th></th>\n",
       "      <th></th>\n",
       "      <th></th>\n",
       "      <th></th>\n",
       "    </tr>\n",
       "  </thead>\n",
       "  <tbody>\n",
       "    <tr>\n",
       "      <th>2016-02-16 11:12:00-08:00</th>\n",
       "      <td>73.8</td>\n",
       "      <td>50.5</td>\n",
       "      <td>29.29</td>\n",
       "      <td>0.0</td>\n",
       "      <td>0.0</td>\n",
       "      <td>44</td>\n",
       "      <td>0.0</td>\n",
       "      <td>0.0</td>\n",
       "      <td>17.48</td>\n",
       "      <td>73.8</td>\n",
       "      <td>47</td>\n",
       "      <td>11</td>\n",
       "      <td>no</td>\n",
       "      <td>0</td>\n",
       "      <td>1</td>\n",
       "    </tr>\n",
       "    <tr>\n",
       "      <th>2016-02-16 11:14:00-08:00</th>\n",
       "      <td>74.5</td>\n",
       "      <td>50.5</td>\n",
       "      <td>29.29</td>\n",
       "      <td>0.0</td>\n",
       "      <td>0.0</td>\n",
       "      <td>43</td>\n",
       "      <td>0.0</td>\n",
       "      <td>0.0</td>\n",
       "      <td>17.48</td>\n",
       "      <td>73.8</td>\n",
       "      <td>47</td>\n",
       "      <td>11</td>\n",
       "      <td>no</td>\n",
       "      <td>0</td>\n",
       "      <td>1</td>\n",
       "    </tr>\n",
       "    <tr>\n",
       "      <th>2016-02-16 11:15:00-08:00</th>\n",
       "      <td>74.5</td>\n",
       "      <td>50.5</td>\n",
       "      <td>29.28</td>\n",
       "      <td>0.0</td>\n",
       "      <td>0.0</td>\n",
       "      <td>43</td>\n",
       "      <td>0.0</td>\n",
       "      <td>0.0</td>\n",
       "      <td>17.48</td>\n",
       "      <td>73.8</td>\n",
       "      <td>47</td>\n",
       "      <td>11</td>\n",
       "      <td>no</td>\n",
       "      <td>0</td>\n",
       "      <td>1</td>\n",
       "    </tr>\n",
       "    <tr>\n",
       "      <th>2016-02-16 11:16:00-08:00</th>\n",
       "      <td>74.5</td>\n",
       "      <td>50.5</td>\n",
       "      <td>29.27</td>\n",
       "      <td>0.0</td>\n",
       "      <td>0.0</td>\n",
       "      <td>43</td>\n",
       "      <td>0.0</td>\n",
       "      <td>0.0</td>\n",
       "      <td>17.53</td>\n",
       "      <td>73.8</td>\n",
       "      <td>47</td>\n",
       "      <td>11</td>\n",
       "      <td>no</td>\n",
       "      <td>0</td>\n",
       "      <td>1</td>\n",
       "    </tr>\n",
       "    <tr>\n",
       "      <th>2016-02-16 11:18:00-08:00</th>\n",
       "      <td>74.5</td>\n",
       "      <td>50.5</td>\n",
       "      <td>29.28</td>\n",
       "      <td>0.0</td>\n",
       "      <td>0.0</td>\n",
       "      <td>43</td>\n",
       "      <td>0.0</td>\n",
       "      <td>0.0</td>\n",
       "      <td>17.48</td>\n",
       "      <td>73.8</td>\n",
       "      <td>47</td>\n",
       "      <td>11</td>\n",
       "      <td>no</td>\n",
       "      <td>0</td>\n",
       "      <td>1</td>\n",
       "    </tr>\n",
       "  </tbody>\n",
       "</table>\n",
       "</div>"
      ],
      "text/plain": [
       "                           TemperatureF  DewpointF  PressureIn  WindSpeedMPH  \\\n",
       "DateUTC                                                                        \n",
       "2016-02-16 11:12:00-08:00          73.8       50.5       29.29           0.0   \n",
       "2016-02-16 11:14:00-08:00          74.5       50.5       29.29           0.0   \n",
       "2016-02-16 11:15:00-08:00          74.5       50.5       29.28           0.0   \n",
       "2016-02-16 11:16:00-08:00          74.5       50.5       29.27           0.0   \n",
       "2016-02-16 11:18:00-08:00          74.5       50.5       29.28           0.0   \n",
       "\n",
       "                           WindSpeedGustMPH  Humidity  HourlyPrecipIn  \\\n",
       "DateUTC                                                                 \n",
       "2016-02-16 11:12:00-08:00               0.0        44             0.0   \n",
       "2016-02-16 11:14:00-08:00               0.0        43             0.0   \n",
       "2016-02-16 11:15:00-08:00               0.0        43             0.0   \n",
       "2016-02-16 11:16:00-08:00               0.0        43             0.0   \n",
       "2016-02-16 11:18:00-08:00               0.0        43             0.0   \n",
       "\n",
       "                           dailyrainin  SolarRadiationWatts/m^2  forward_min  \\\n",
       "DateUTC                                                                        \n",
       "2016-02-16 11:12:00-08:00          0.0                    17.48         73.8   \n",
       "2016-02-16 11:14:00-08:00          0.0                    17.48         73.8   \n",
       "2016-02-16 11:15:00-08:00          0.0                    17.48         73.8   \n",
       "2016-02-16 11:16:00-08:00          0.0                    17.53         73.8   \n",
       "2016-02-16 11:18:00-08:00          0.0                    17.48         73.8   \n",
       "\n",
       "                           day_of_year  hour threshold  threshold_32  \\\n",
       "DateUTC                                                                \n",
       "2016-02-16 11:12:00-08:00           47    11        no             0   \n",
       "2016-02-16 11:14:00-08:00           47    11        no             0   \n",
       "2016-02-16 11:15:00-08:00           47    11        no             0   \n",
       "2016-02-16 11:16:00-08:00           47    11        no             0   \n",
       "2016-02-16 11:18:00-08:00           47    11        no             0   \n",
       "\n",
       "                           threshold_no  \n",
       "DateUTC                                  \n",
       "2016-02-16 11:12:00-08:00             1  \n",
       "2016-02-16 11:14:00-08:00             1  \n",
       "2016-02-16 11:15:00-08:00             1  \n",
       "2016-02-16 11:16:00-08:00             1  \n",
       "2016-02-16 11:18:00-08:00             1  "
      ]
     },
     "execution_count": 267,
     "metadata": {},
     "output_type": "execute_result"
    }
   ],
   "source": [
    "data = pd.read_csv(path + 'all_data.csv', index_col='DateUTC', parse_dates=True, usecols=['DateUTC','TemperatureF','DewpointF','PressureIn','WindSpeedMPH','WindSpeedGustMPH','Humidity','HourlyPrecipIn','dailyrainin','SolarRadiationWatts/m^2'])\n",
    "data.index = data.index.tz_localize('UTC').tz_convert('US/Pacific')\n",
    "\n",
    "data = data[data.TemperatureF > 0] # Remove bad temp\n",
    "data = data[data.PressureIn   > 0] # Remove bad pressure\n",
    "data = data[data.HourlyPrecipIn >= 0] # Remove bad rainfall\n",
    "\n",
    "data = data.assign(forward_min = data.rolling('10h', closed='both').TemperatureF.min().shift(-1,'10h').asof(data.index))\n",
    "\n",
    "data = data.assign(day_of_year = data.index.dayofyear, hour = data.index.hour)\n",
    "data = data.assign(threshold = 'no')\n",
    "data.loc[data.forward_min < 32,'threshold'] = '32'\n",
    "\n",
    "data = data.merge(pd.get_dummies(data.threshold, prefix='threshold'), left_index=True, right_index=True)\n",
    "\n",
    "data.head()"
   ]
  },
  {
   "cell_type": "code",
   "execution_count": 219,
   "metadata": {
    "ExecuteTime": {
     "end_time": "2017-08-04T23:42:46.184776Z",
     "start_time": "2017-08-04T23:42:46.180235Z"
    },
    "init_cell": true
   },
   "outputs": [],
   "source": [
    "minutes_in_week = 60*24*7+30\n",
    "seq_length=15\n",
    "base = 30\n",
    "multiple = np.exp(np.log(minutes_in_week/base)/(seq_length-1))\n",
    "fp_fn_ratio=10"
   ]
  },
  {
   "cell_type": "code",
   "execution_count": 255,
   "metadata": {
    "ExecuteTime": {
     "end_time": "2017-08-05T00:01:29.791127Z",
     "start_time": "2017-08-05T00:01:23.177693Z"
    }
   },
   "outputs": [
    {
     "data": {
      "text/plain": [
       "(1000, 15, 11)"
      ]
     },
     "execution_count": 255,
     "metadata": {},
     "output_type": "execute_result"
    }
   ],
   "source": [
    "from pandas.tseries.offsets import *\n",
    "\n",
    "offsets = pd.Series(DateOffset(minutes = base*(multiple**i-1)) for i in range(seq_length-1,-1,-1))\n",
    "wanted_cols = data[['TemperatureF','DewpointF','PressureIn','WindSpeedMPH','WindSpeedGustMPH','Humidity','HourlyPrecipIn','dailyrainin','SolarRadiationWatts/m^2','day_of_year', 'hour']]\n",
    "\n",
    "# TODO: This below takes AN HOUR to run on 124,028 data points.  Surely that could be faster??!?\n",
    "all_x = np.nan_to_num([wanted_cols.asof(idx - offsets).values for idx, _ in wanted_cols.iterrows()])\n",
    "all_y = data[['threshold_32']]\n",
    "save_array(path+'all_x', all_x)\n",
    "save_array(path+'all_y', all_y)\n",
    "\n",
    "# all_x = load_array(path+'all_x')\n",
    "# all_y = load_array(path+'all_y')\n",
    "\n",
    "all_x.shape, all_y.shape"
   ]
  },
  {
   "cell_type": "code",
   "execution_count": 7,
   "metadata": {
    "ExecuteTime": {
     "end_time": "2017-08-04T22:00:01.392583Z",
     "start_time": "2017-08-04T22:00:01.350756Z"
    },
    "collapsed": true
   },
   "outputs": [],
   "source": [
    "train_idx = np.where(data.day_of_year%10!=0)\n",
    "val_idx = np.where(data.day_of_year%10==0)\n",
    "\n",
    "train_x, train_y = all_x[train_idx], all_y[train_idx]\n",
    "val_x, val_y = all_x[val_idx], all_y[val_idx]\n",
    "\n",
    "train_data = data.iloc[train_idx]\n",
    "validation_data = data.iloc[val_idx]"
   ]
  },
  {
   "cell_type": "code",
   "execution_count": 8,
   "metadata": {
    "ExecuteTime": {
     "end_time": "2017-08-04T22:00:01.398882Z",
     "start_time": "2017-08-04T22:00:01.394493Z"
    },
    "init_cell": true
   },
   "outputs": [
    {
     "data": {
      "text/plain": [
       "(112005, (112005, 1), 12023, (12023, 1), 124028, 124028)"
      ]
     },
     "execution_count": 8,
     "metadata": {},
     "output_type": "execute_result"
    }
   ],
   "source": [
    "train_idx[0].size, train_y.shape, val_idx[0].size, val_y.shape, train_idx[0].size+val_idx[0].size, len(data)"
   ]
  },
  {
   "cell_type": "code",
   "execution_count": 9,
   "metadata": {
    "ExecuteTime": {
     "end_time": "2017-08-04T22:00:01.743091Z",
     "start_time": "2017-08-04T22:00:01.400725Z"
    },
    "scrolled": false
   },
   "outputs": [
    {
     "name": "stdout",
     "output_type": "stream",
     "text": [
      "_________________________________________________________________\n",
      "Layer (type)                 Output Shape              Param #   \n",
      "=================================================================\n",
      "batch_normalization_1 (Batch (None, 5, 11)             44        \n",
      "_________________________________________________________________\n",
      "dropout_1 (Dropout)          (None, 5, 11)             0         \n",
      "_________________________________________________________________\n",
      "conv1d_1 (Conv1D)            (None, 5, 128)            4352      \n",
      "_________________________________________________________________\n",
      "batch_normalization_2 (Batch (None, 5, 128)            512       \n",
      "_________________________________________________________________\n",
      "conv1d_2 (Conv1D)            (None, 5, 128)            49280     \n",
      "_________________________________________________________________\n",
      "max_pooling1d_1 (MaxPooling1 (None, 2, 128)            0         \n",
      "_________________________________________________________________\n",
      "batch_normalization_3 (Batch (None, 2, 128)            512       \n",
      "_________________________________________________________________\n",
      "conv1d_3 (Conv1D)            (None, 2, 256)            98560     \n",
      "_________________________________________________________________\n",
      "batch_normalization_4 (Batch (None, 2, 256)            1024      \n",
      "_________________________________________________________________\n",
      "conv1d_4 (Conv1D)            (None, 2, 256)            196864    \n",
      "_________________________________________________________________\n",
      "max_pooling1d_2 (MaxPooling1 (None, 1, 256)            0         \n",
      "_________________________________________________________________\n",
      "batch_normalization_5 (Batch (None, 1, 256)            1024      \n",
      "_________________________________________________________________\n",
      "flatten_1 (Flatten)          (None, 256)               0         \n",
      "_________________________________________________________________\n",
      "dense_1 (Dense)              (None, 512)               131584    \n",
      "_________________________________________________________________\n",
      "batch_normalization_6 (Batch (None, 512)               2048      \n",
      "_________________________________________________________________\n",
      "dropout_2 (Dropout)          (None, 512)               0         \n",
      "_________________________________________________________________\n",
      "dense_2 (Dense)              (None, 1)                 513       \n",
      "=================================================================\n",
      "Total params: 486,317\n",
      "Trainable params: 483,735\n",
      "Non-trainable params: 2,582\n",
      "_________________________________________________________________\n"
     ]
    }
   ],
   "source": [
    "model = Sequential([\n",
    "    BatchNormalization(input_shape=(seq_length, train_x.shape[2])),\n",
    "    Dropout(0.25),\n",
    "    \n",
    "    Conv1D(128, 3, padding='causal', activation='relu'),\n",
    "    BatchNormalization(),\n",
    "    Conv1D(128, 3, padding='causal', activation='relu'),\n",
    "    MaxPooling1D(),\n",
    "    BatchNormalization(),\n",
    "\n",
    "    Conv1D(256, 3, padding='same', activation='relu'),\n",
    "    BatchNormalization(),\n",
    "    Conv1D(256, 3, padding='same', activation='relu'),\n",
    "    MaxPooling1D(),\n",
    "    BatchNormalization(),\n",
    "\n",
    "#     Conv1D(512, 3, padding='same', activation='relu'),\n",
    "#     BatchNormalization(),\n",
    "#     Conv1D(512, 3, padding='same', activation='relu'),\n",
    "#     BatchNormalization(),\n",
    "#     MaxPooling1D(4),\n",
    "    \n",
    "    Flatten(),\n",
    "\n",
    "    Dense(512, activation='relu'),\n",
    "    BatchNormalization(),\n",
    "    \n",
    "    Dropout(0.75),\n",
    "    Dense(train_y.shape[1], activation='sigmoid'),\n",
    "])\n",
    "model.compile(Nadam(), 'binary_crossentropy', ['binary_accuracy'])\n",
    "model.summary()"
   ]
  },
  {
   "cell_type": "code",
   "execution_count": 10,
   "metadata": {
    "ExecuteTime": {
     "end_time": "2017-08-04T22:01:12.595737Z",
     "start_time": "2017-08-04T22:00:01.744931Z"
    },
    "scrolled": false
   },
   "outputs": [
    {
     "name": "stdout",
     "output_type": "stream",
     "text": [
      "Train on 112005 samples, validate on 12023 samples\n",
      "Epoch 1/20\n",
      "112005/112005 [==============================] - 5s - loss: 0.5838 - binary_accuracy: 0.8686 - val_loss: 6.8606 - val_binary_accuracy: 0.0724\n",
      "Epoch 2/20\n",
      "112005/112005 [==============================] - 3s - loss: 0.2686 - binary_accuracy: 0.9406 - val_loss: 8.2920 - val_binary_accuracy: 0.1360\n",
      "Epoch 3/20\n",
      "112005/112005 [==============================] - 3s - loss: 0.2046 - binary_accuracy: 0.9538 - val_loss: 3.4802 - val_binary_accuracy: 0.3853\n",
      "Epoch 4/20\n",
      "112005/112005 [==============================] - 3s - loss: 0.1713 - binary_accuracy: 0.9610 - val_loss: 0.1419 - val_binary_accuracy: 0.9460\n",
      "Epoch 5/20\n",
      "112005/112005 [==============================] - 3s - loss: 0.1518 - binary_accuracy: 0.9659 - val_loss: 0.0824 - val_binary_accuracy: 0.9603\n",
      "Epoch 6/20\n",
      "112005/112005 [==============================] - 3s - loss: 0.1414 - binary_accuracy: 0.9674 - val_loss: 0.2556 - val_binary_accuracy: 0.9369\n",
      "Epoch 7/20\n",
      "112005/112005 [==============================] - 3s - loss: 0.1355 - binary_accuracy: 0.9687 - val_loss: 0.1386 - val_binary_accuracy: 0.9467\n",
      "Epoch 8/20\n",
      "112005/112005 [==============================] - 3s - loss: 0.1226 - binary_accuracy: 0.9711 - val_loss: 0.1036 - val_binary_accuracy: 0.9489\n",
      "Epoch 9/20\n",
      "112005/112005 [==============================] - 3s - loss: 0.1147 - binary_accuracy: 0.9734 - val_loss: 0.1025 - val_binary_accuracy: 0.9587\n",
      "Epoch 10/20\n",
      "112005/112005 [==============================] - 3s - loss: 0.1140 - binary_accuracy: 0.9739 - val_loss: 0.1146 - val_binary_accuracy: 0.9495\n",
      "Epoch 11/20\n",
      "112005/112005 [==============================] - 3s - loss: 0.1060 - binary_accuracy: 0.9751 - val_loss: 0.1595 - val_binary_accuracy: 0.9417\n",
      "Epoch 12/20\n",
      "112005/112005 [==============================] - 3s - loss: 0.0975 - binary_accuracy: 0.9773 - val_loss: 0.1578 - val_binary_accuracy: 0.9426\n",
      "Epoch 13/20\n",
      "112005/112005 [==============================] - 3s - loss: 0.0948 - binary_accuracy: 0.9778 - val_loss: 0.1290 - val_binary_accuracy: 0.9579\n",
      "Epoch 14/20\n",
      "112005/112005 [==============================] - 3s - loss: 0.0935 - binary_accuracy: 0.9782 - val_loss: 0.1233 - val_binary_accuracy: 0.9475\n",
      "Epoch 15/20\n",
      "112005/112005 [==============================] - 3s - loss: 0.0914 - binary_accuracy: 0.9779 - val_loss: 0.1319 - val_binary_accuracy: 0.9454\n",
      "Epoch 16/20\n",
      "112005/112005 [==============================] - 3s - loss: 0.0870 - binary_accuracy: 0.9798 - val_loss: 0.1184 - val_binary_accuracy: 0.9567\n",
      "Epoch 17/20\n",
      "112005/112005 [==============================] - 3s - loss: 0.0846 - binary_accuracy: 0.9802 - val_loss: 0.1446 - val_binary_accuracy: 0.9447\n",
      "Epoch 18/20\n",
      "112005/112005 [==============================] - 3s - loss: 0.0838 - binary_accuracy: 0.9799 - val_loss: 0.1196 - val_binary_accuracy: 0.9565\n",
      "Epoch 19/20\n",
      "112005/112005 [==============================] - 3s - loss: 0.0827 - binary_accuracy: 0.9812 - val_loss: 0.1185 - val_binary_accuracy: 0.9566\n",
      "Epoch 20/20\n",
      "112005/112005 [==============================] - 3s - loss: 0.0829 - binary_accuracy: 0.9809 - val_loss: 0.2015 - val_binary_accuracy: 0.9446\n"
     ]
    },
    {
     "data": {
      "text/plain": [
       "<keras.callbacks.History at 0x7eff3a570f60>"
      ]
     },
     "execution_count": 10,
     "metadata": {},
     "output_type": "execute_result"
    }
   ],
   "source": [
    "callback = ReduceLROnPlateau(patience=2, verbose=1, monitor='loss')\n",
    "\n",
    "model.fit(train_x, train_y,\n",
    "          epochs=20,\n",
    "          batch_size=batch_size,\n",
    "          validation_data=(val_x, val_y),\n",
    "          class_weight={0:1, 1:fp_fn_ratio},\n",
    "          callbacks=[callback])"
   ]
  },
  {
   "cell_type": "code",
   "execution_count": 11,
   "metadata": {
    "ExecuteTime": {
     "end_time": "2017-08-04T22:01:13.076325Z",
     "start_time": "2017-08-04T22:01:12.598316Z"
    }
   },
   "outputs": [
    {
     "data": {
      "text/plain": [
       "[<matplotlib.lines.Line2D at 0x7eff3845b588>]"
      ]
     },
     "execution_count": 11,
     "metadata": {},
     "output_type": "execute_result"
    },
    {
     "data": {
      "image/png": "[encoded data removed]",
      "text/plain": [
       "<matplotlib.figure.Figure at 0x7eff447fff28>"
      ]
     },
     "metadata": {},
     "output_type": "display_data"
    }
   ],
   "source": [
    "plt.figure(figsize=(24,5))\n",
    "plt.plot(val_y-np.round(model.predict(val_x, batch_size=batch_size)), color=(1,0,0,0.5))\n",
    "#plt.plot(np.round(model.predict(val_x, batch_size=batch_size)), color=(0,0,1,0.5))"
   ]
  },
  {
   "cell_type": "code",
   "execution_count": 12,
   "metadata": {
    "ExecuteTime": {
     "end_time": "2017-08-04T22:01:13.176677Z",
     "start_time": "2017-08-04T22:01:13.079008Z"
    }
   },
   "outputs": [
    {
     "data": {
      "text/plain": [
       "((112005, 5, 11),\n",
       " (12023, 5, 11),\n",
       " (124028, 5, 11),\n",
       " (112005, 1),\n",
       " (12023, 1),\n",
       " (124028, 1))"
      ]
     },
     "execution_count": 12,
     "metadata": {},
     "output_type": "execute_result"
    }
   ],
   "source": [
    "val_pseudo = np.round(model.predict(val_x, batch_size=batch_size))\n",
    "combo_x = np.concatenate((train_x, val_x))\n",
    "combo_y = np.concatenate((train_y, val_pseudo))\n",
    "train_x.shape, val_x.shape, combo_x.shape, train_y.shape, val_y.shape, combo_y.shape"
   ]
  },
  {
   "cell_type": "code",
   "execution_count": 13,
   "metadata": {
    "ExecuteTime": {
     "end_time": "2017-08-04T22:02:20.274846Z",
     "start_time": "2017-08-04T22:01:13.178508Z"
    },
    "scrolled": false
   },
   "outputs": [
    {
     "name": "stdout",
     "output_type": "stream",
     "text": [
      "Train on 112005 samples, validate on 12023 samples\n",
      "Epoch 1/20\n",
      "112005/112005 [==============================] - 3s - loss: 0.0764 - binary_accuracy: 0.9817 - val_loss: 0.1379 - val_binary_accuracy: 0.9470\n",
      "Epoch 2/20\n",
      "112005/112005 [==============================] - 3s - loss: 0.0751 - binary_accuracy: 0.9824 - val_loss: 0.1069 - val_binary_accuracy: 0.9525\n",
      "Epoch 3/20\n",
      "112005/112005 [==============================] - 3s - loss: 0.0757 - binary_accuracy: 0.9828 - val_loss: 0.1818 - val_binary_accuracy: 0.9410\n",
      "Epoch 4/20\n",
      "112005/112005 [==============================] - 3s - loss: 0.0705 - binary_accuracy: 0.9833 - val_loss: 0.1754 - val_binary_accuracy: 0.9448\n",
      "Epoch 5/20\n",
      "112005/112005 [==============================] - 3s - loss: 0.0667 - binary_accuracy: 0.9841 - val_loss: 0.1960 - val_binary_accuracy: 0.9364\n",
      "Epoch 6/20\n",
      "112005/112005 [==============================] - 3s - loss: 0.0674 - binary_accuracy: 0.9848 - val_loss: 0.1924 - val_binary_accuracy: 0.9315\n",
      "Epoch 7/20\n",
      "112005/112005 [==============================] - 3s - loss: 0.0654 - binary_accuracy: 0.9849 - val_loss: 0.1730 - val_binary_accuracy: 0.9406\n",
      "Epoch 8/20\n",
      "112005/112005 [==============================] - 3s - loss: 0.0625 - binary_accuracy: 0.9858 - val_loss: 0.1670 - val_binary_accuracy: 0.9454\n",
      "Epoch 9/20\n",
      "112005/112005 [==============================] - 3s - loss: 0.0620 - binary_accuracy: 0.9854 - val_loss: 0.1864 - val_binary_accuracy: 0.9365\n",
      "Epoch 10/20\n",
      "112005/112005 [==============================] - 3s - loss: 0.0593 - binary_accuracy: 0.9860 - val_loss: 0.2537 - val_binary_accuracy: 0.9305\n",
      "Epoch 11/20\n",
      "112005/112005 [==============================] - 3s - loss: 0.0602 - binary_accuracy: 0.9860 - val_loss: 0.1836 - val_binary_accuracy: 0.9412\n",
      "Epoch 12/20\n",
      "112005/112005 [==============================] - 3s - loss: 0.0547 - binary_accuracy: 0.9871 - val_loss: 0.1778 - val_binary_accuracy: 0.9426\n",
      "Epoch 13/20\n",
      "112005/112005 [==============================] - 3s - loss: 0.0581 - binary_accuracy: 0.9865 - val_loss: 0.2127 - val_binary_accuracy: 0.9412\n",
      "Epoch 14/20\n",
      "112005/112005 [==============================] - 3s - loss: 0.0563 - binary_accuracy: 0.9872 - val_loss: 0.2023 - val_binary_accuracy: 0.9483\n",
      "Epoch 15/20\n",
      "112005/112005 [==============================] - 3s - loss: 0.0532 - binary_accuracy: 0.9873 - val_loss: 0.2348 - val_binary_accuracy: 0.9410\n",
      "Epoch 16/20\n",
      "112005/112005 [==============================] - 3s - loss: 0.0549 - binary_accuracy: 0.9873 - val_loss: 0.1981 - val_binary_accuracy: 0.9358\n",
      "Epoch 17/20\n",
      "112005/112005 [==============================] - 3s - loss: 0.0553 - binary_accuracy: 0.9875 - val_loss: 0.1980 - val_binary_accuracy: 0.9406\n",
      "Epoch 18/20\n",
      "112005/112005 [==============================] - 3s - loss: 0.0506 - binary_accuracy: 0.9885 - val_loss: 0.2310 - val_binary_accuracy: 0.9426\n",
      "Epoch 19/20\n",
      "112005/112005 [==============================] - 3s - loss: 0.0489 - binary_accuracy: 0.9890 - val_loss: 0.2367 - val_binary_accuracy: 0.9416\n",
      "Epoch 20/20\n",
      "112005/112005 [==============================] - 3s - loss: 0.0527 - binary_accuracy: 0.9883 - val_loss: 0.2066 - val_binary_accuracy: 0.9458\n"
     ]
    },
    {
     "data": {
      "text/plain": [
       "<keras.callbacks.History at 0x7eff38432160>"
      ]
     },
     "execution_count": 13,
     "metadata": {},
     "output_type": "execute_result"
    }
   ],
   "source": [
    "model.fit(train_x, train_y,\n",
    "          epochs=20,\n",
    "          batch_size=batch_size,\n",
    "          validation_data=(val_x, val_y),\n",
    "          class_weight={0:1, 1:fp_fn_ratio},\n",
    "          callbacks=[callback])"
   ]
  },
  {
   "cell_type": "code",
   "execution_count": 14,
   "metadata": {
    "ExecuteTime": {
     "end_time": "2017-08-04T22:02:20.703536Z",
     "start_time": "2017-08-04T22:02:20.276681Z"
    }
   },
   "outputs": [
    {
     "data": {
      "text/plain": [
       "<matplotlib.lines.Line2D at 0x7eff31783f28>"
      ]
     },
     "execution_count": 14,
     "metadata": {},
     "output_type": "execute_result"
    },
    {
     "data": {
      "image/png": "[encoded data removed]",
      "text/plain": [
       "<matplotlib.figure.Figure at 0x7eff384829e8>"
      ]
     },
     "metadata": {},
     "output_type": "display_data"
    }
   ],
   "source": [
    "plt.figure(figsize=(24,5))\n",
    "plt.plot((val_y-np.round(model.predict(val_x, batch_size=batch_size)))*100, 'r')\n",
    "plt.plot(validation_data.TemperatureF.as_matrix(), 'g')\n",
    "plt.plot(validation_data.forward_min.as_matrix(), 'c')\n",
    "plt.axhline(32)"
   ]
  },
  {
   "cell_type": "code",
   "execution_count": 141,
   "metadata": {
    "ExecuteTime": {
     "end_time": "2017-08-04T22:56:13.979418Z",
     "start_time": "2017-08-04T22:56:13.879551Z"
    }
   },
   "outputs": [],
   "source": [
    "prediction_data = validation_data.assign(prediction = np.round(model.predict(val_x, batch_size=batch_size)).astype(int))\n",
    "prediction_data.index = prediction_data.index.tz_convert('UTC')\n",
    "prediction_data = prediction_data.merge(pd.get_dummies(prediction_data.prediction, prefix='prediction'), left_index=True, right_index=True)\n",
    "prediction_data = prediction_data.assign(fn = prediction_data.threshold_32*prediction_data.prediction_0)\n",
    "prediction_data = prediction_data.assign(fp = prediction_data.threshold_no*prediction_data.prediction_1)"
   ]
  },
  {
   "cell_type": "code",
   "execution_count": 165,
   "metadata": {
    "ExecuteTime": {
     "end_time": "2017-08-04T23:01:46.266465Z",
     "start_time": "2017-08-04T23:01:46.229368Z"
    }
   },
   "outputs": [
    {
     "data": {
      "text/plain": [
       "(0, 0)"
      ]
     },
     "execution_count": 165,
     "metadata": {},
     "output_type": "execute_result"
    }
   ],
   "source": [
    "resample = '8H'\n",
    "extract = prediction_data.TemperatureF.resample(resample).min().to_frame().merge(prediction_data.forward_min.resample(resample).min().to_frame(), left_index=True, right_index=True).merge(prediction_data.threshold_32.resample(resample).max().to_frame(), left_index=True, right_index=True).merge(prediction_data.prediction_1.resample(resample).max().to_frame(), left_index=True, right_index=True).merge(prediction_data.fn.resample(resample).prod().to_frame(), left_index=True, right_index=True).merge(prediction_data.fp.resample(resample).prod().to_frame(), left_index=True, right_index=True)\n",
    "extract.fp = extract.fp * 32\n",
    "extract.fn = extract.fn * 32\n",
    "extract.fp[extract.fp==0] = float('nan')\n",
    "extract.fn[extract.fn==0] = float('nan')\n",
    "extract.fn.count(), extract.fp.count()"
   ]
  },
  {
   "cell_type": "code",
   "execution_count": 161,
   "metadata": {
    "ExecuteTime": {
     "end_time": "2017-08-04T23:01:21.592440Z",
     "start_time": "2017-08-04T23:01:20.833090Z"
    }
   },
   "outputs": [
    {
     "data": {
      "text/plain": [
       "<matplotlib.lines.Line2D at 0x7efec5dfb4e0>"
      ]
     },
     "execution_count": 161,
     "metadata": {},
     "output_type": "execute_result"
    },
    {
     "data": {
      "image/png": "[encoded data removed]",
      "text/plain": [
       "<matplotlib.figure.Figure at 0x7efec59f20b8>"
      ]
     },
     "metadata": {},
     "output_type": "display_data"
    }
   ],
   "source": [
    "extract[['TemperatureF','fp', 'fn']].plot(figsize=(24,5))\n",
    "plt.axhline(32)"
   ]
  },
  {
   "cell_type": "code",
   "execution_count": null,
   "metadata": {
    "collapsed": true
   },
   "outputs": [],
   "source": []
  }
 ],
 "metadata": {
  "celltoolbar": "Initialization Cell",
  "kernelspec": {
   "display_name": "Python [default]",
   "language": "python",
   "name": "python3"
  },
  "language_info": {
   "codemirror_mode": {
    "name": "ipython",
    "version": 3
   },
   "file_extension": ".py",
   "mimetype": "text/x-python",
   "name": "python",
   "nbconvert_exporter": "python",
   "pygments_lexer": "ipython3",
   "version": "3.5.3"
  },
  "toc": {
   "colors": {
    "hover_highlight": "#DAA520",
    "navigate_num": "#000000",
    "navigate_text": "#333333",
    "running_highlight": "#FF0000",
    "selected_highlight": "#FFD700",
    "sidebar_border": "#EEEEEE",
    "wrapper_background": "#FFFFFF"
   },
   "moveMenuLeft": true,
   "nav_menu": {
    "height": "12px",
    "width": "252px"
   },
   "navigate_menu": true,
   "number_sections": true,
   "sideBar": true,
   "threshold": 4,
   "toc_cell": false,
   "toc_section_display": "block",
   "toc_window_display": true,
   "widenNotebook": false
  }
 },
 "nbformat": 4,
 "nbformat_minor": 2
}
