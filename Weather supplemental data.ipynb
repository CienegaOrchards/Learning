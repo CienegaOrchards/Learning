{
 "cells": [
  {
   "cell_type": "code",
   "execution_count": 1,
   "metadata": {
    "ExecuteTime": {
     "end_time": "2017-08-03T20:31:35.533896Z",
     "start_time": "2017-08-03T20:31:35.521148Z"
    },
    "init_cell": true
   },
   "outputs": [
    {
     "data": {
      "application/javascript": [
       "IPython.OutputArea.auto_scroll_threshold = 9999;"
      ],
      "text/plain": [
       "<IPython.core.display.Javascript object>"
      ]
     },
     "metadata": {},
     "output_type": "display_data"
    }
   ],
   "source": [
    "%%javascript\n",
    "IPython.OutputArea.auto_scroll_threshold = 9999;"
   ]
  },
  {
   "cell_type": "code",
   "execution_count": 2,
   "metadata": {
    "ExecuteTime": {
     "end_time": "2017-08-03T20:31:57.508340Z",
     "start_time": "2017-08-03T20:31:35.931307Z"
    },
    "init_cell": true
   },
   "outputs": [
    {
     "name": "stderr",
     "output_type": "stream",
     "text": [
      "Using TensorFlow backend.\n"
     ]
    }
   ],
   "source": [
    "%matplotlib inline\n",
    "import utils\n",
    "from utils import *\n",
    "from __future__ import division, print_function"
   ]
  },
  {
   "cell_type": "code",
   "execution_count": 4,
   "metadata": {
    "ExecuteTime": {
     "end_time": "2017-08-03T20:31:57.531752Z",
     "start_time": "2017-08-03T20:31:57.526645Z"
    },
    "collapsed": true,
    "init_cell": true
   },
   "outputs": [],
   "source": [
    "path = \"data/weather/\"\n",
    "model_path = path + 'models/'\n",
    "batch_size=1024"
   ]
  },
  {
   "cell_type": "code",
   "execution_count": 5,
   "metadata": {
    "ExecuteTime": {
     "end_time": "2017-08-03T20:31:57.992947Z",
     "start_time": "2017-08-03T20:31:57.533616Z"
    },
    "init_cell": true
   },
   "outputs": [
    {
     "data": {
      "text/html": [
       "<div>\n",
       "<style>\n",
       "    .dataframe thead tr:only-child th {\n",
       "        text-align: right;\n",
       "    }\n",
       "\n",
       "    .dataframe thead th {\n",
       "        text-align: left;\n",
       "    }\n",
       "\n",
       "    .dataframe tbody tr th {\n",
       "        vertical-align: top;\n",
       "    }\n",
       "</style>\n",
       "<table border=\"1\" class=\"dataframe\">\n",
       "  <thead>\n",
       "    <tr style=\"text-align: right;\">\n",
       "      <th></th>\n",
       "      <th>TemperatureF</th>\n",
       "      <th>DewpointF</th>\n",
       "      <th>PressureIn</th>\n",
       "      <th>WindSpeedMPH</th>\n",
       "      <th>WindSpeedGustMPH</th>\n",
       "      <th>Humidity</th>\n",
       "      <th>HourlyPrecipIn</th>\n",
       "      <th>dailyrainin</th>\n",
       "      <th>SolarRadiationWatts/m^2</th>\n",
       "      <th>forward_min</th>\n",
       "    </tr>\n",
       "    <tr>\n",
       "      <th>DateUTC</th>\n",
       "      <th></th>\n",
       "      <th></th>\n",
       "      <th></th>\n",
       "      <th></th>\n",
       "      <th></th>\n",
       "      <th></th>\n",
       "      <th></th>\n",
       "      <th></th>\n",
       "      <th></th>\n",
       "      <th></th>\n",
       "    </tr>\n",
       "  </thead>\n",
       "  <tbody>\n",
       "    <tr>\n",
       "      <th>2016-02-16 11:12:00-08:00</th>\n",
       "      <td>73.8</td>\n",
       "      <td>50.5</td>\n",
       "      <td>29.29</td>\n",
       "      <td>0.0</td>\n",
       "      <td>0.0</td>\n",
       "      <td>44</td>\n",
       "      <td>0.0</td>\n",
       "      <td>0.0</td>\n",
       "      <td>17.48</td>\n",
       "      <td>73.8</td>\n",
       "    </tr>\n",
       "    <tr>\n",
       "      <th>2016-02-16 11:14:00-08:00</th>\n",
       "      <td>74.5</td>\n",
       "      <td>50.5</td>\n",
       "      <td>29.29</td>\n",
       "      <td>0.0</td>\n",
       "      <td>0.0</td>\n",
       "      <td>43</td>\n",
       "      <td>0.0</td>\n",
       "      <td>0.0</td>\n",
       "      <td>17.48</td>\n",
       "      <td>73.8</td>\n",
       "    </tr>\n",
       "    <tr>\n",
       "      <th>2016-02-16 11:15:00-08:00</th>\n",
       "      <td>74.5</td>\n",
       "      <td>50.5</td>\n",
       "      <td>29.28</td>\n",
       "      <td>0.0</td>\n",
       "      <td>0.0</td>\n",
       "      <td>43</td>\n",
       "      <td>0.0</td>\n",
       "      <td>0.0</td>\n",
       "      <td>17.48</td>\n",
       "      <td>73.8</td>\n",
       "    </tr>\n",
       "    <tr>\n",
       "      <th>2016-02-16 11:16:00-08:00</th>\n",
       "      <td>74.5</td>\n",
       "      <td>50.5</td>\n",
       "      <td>29.27</td>\n",
       "      <td>0.0</td>\n",
       "      <td>0.0</td>\n",
       "      <td>43</td>\n",
       "      <td>0.0</td>\n",
       "      <td>0.0</td>\n",
       "      <td>17.53</td>\n",
       "      <td>73.8</td>\n",
       "    </tr>\n",
       "    <tr>\n",
       "      <th>2016-02-16 11:18:00-08:00</th>\n",
       "      <td>74.5</td>\n",
       "      <td>50.5</td>\n",
       "      <td>29.28</td>\n",
       "      <td>0.0</td>\n",
       "      <td>0.0</td>\n",
       "      <td>43</td>\n",
       "      <td>0.0</td>\n",
       "      <td>0.0</td>\n",
       "      <td>17.48</td>\n",
       "      <td>73.8</td>\n",
       "    </tr>\n",
       "  </tbody>\n",
       "</table>\n",
       "</div>"
      ],
      "text/plain": [
       "                           TemperatureF  DewpointF  PressureIn  WindSpeedMPH  \\\n",
       "DateUTC                                                                        \n",
       "2016-02-16 11:12:00-08:00          73.8       50.5       29.29           0.0   \n",
       "2016-02-16 11:14:00-08:00          74.5       50.5       29.29           0.0   \n",
       "2016-02-16 11:15:00-08:00          74.5       50.5       29.28           0.0   \n",
       "2016-02-16 11:16:00-08:00          74.5       50.5       29.27           0.0   \n",
       "2016-02-16 11:18:00-08:00          74.5       50.5       29.28           0.0   \n",
       "\n",
       "                           WindSpeedGustMPH  Humidity  HourlyPrecipIn  \\\n",
       "DateUTC                                                                 \n",
       "2016-02-16 11:12:00-08:00               0.0        44             0.0   \n",
       "2016-02-16 11:14:00-08:00               0.0        43             0.0   \n",
       "2016-02-16 11:15:00-08:00               0.0        43             0.0   \n",
       "2016-02-16 11:16:00-08:00               0.0        43             0.0   \n",
       "2016-02-16 11:18:00-08:00               0.0        43             0.0   \n",
       "\n",
       "                           dailyrainin  SolarRadiationWatts/m^2  forward_min  \n",
       "DateUTC                                                                       \n",
       "2016-02-16 11:12:00-08:00          0.0                    17.48         73.8  \n",
       "2016-02-16 11:14:00-08:00          0.0                    17.48         73.8  \n",
       "2016-02-16 11:15:00-08:00          0.0                    17.48         73.8  \n",
       "2016-02-16 11:16:00-08:00          0.0                    17.53         73.8  \n",
       "2016-02-16 11:18:00-08:00          0.0                    17.48         73.8  "
      ]
     },
     "execution_count": 5,
     "metadata": {},
     "output_type": "execute_result"
    }
   ],
   "source": [
    "data = pd.read_csv(path + 'all_data.csv', index_col='DateUTC', parse_dates=True, usecols=['DateUTC','TemperatureF','DewpointF','PressureIn','WindSpeedMPH','WindSpeedGustMPH','Humidity','HourlyPrecipIn','dailyrainin','SolarRadiationWatts/m^2'])\n",
    "data.index = data.index.tz_localize('UTC').tz_convert('US/Pacific')\n",
    "\n",
    "data = data[data.TemperatureF > 0] # Remove bad temp\n",
    "data = data[data.PressureIn   > 0] # Remove bad pressure\n",
    "data = data[data.HourlyPrecipIn >= 0] # Remove bad rainfall\n",
    "\n",
    "data = data.assign(forward_min = data.rolling('18h', closed='both').TemperatureF.min().shift(-18,'1h').asof(data.index))\n",
    "\n",
    "data.head()"
   ]
  },
  {
   "cell_type": "code",
   "execution_count": 6,
   "metadata": {
    "ExecuteTime": {
     "end_time": "2017-08-03T20:31:59.629026Z",
     "start_time": "2017-08-03T20:31:57.995605Z"
    },
    "init_cell": true
   },
   "outputs": [
    {
     "data": {
      "text/html": [
       "<div>\n",
       "<style>\n",
       "    .dataframe thead tr:only-child th {\n",
       "        text-align: right;\n",
       "    }\n",
       "\n",
       "    .dataframe thead th {\n",
       "        text-align: left;\n",
       "    }\n",
       "\n",
       "    .dataframe tbody tr th {\n",
       "        vertical-align: top;\n",
       "    }\n",
       "</style>\n",
       "<table border=\"1\" class=\"dataframe\">\n",
       "  <thead>\n",
       "    <tr style=\"text-align: right;\">\n",
       "      <th></th>\n",
       "      <th>TemperatureF</th>\n",
       "      <th>DewpointF</th>\n",
       "      <th>PressureIn</th>\n",
       "      <th>WindSpeedMPH</th>\n",
       "      <th>WindSpeedGustMPH</th>\n",
       "      <th>Humidity</th>\n",
       "      <th>HourlyPrecipIn</th>\n",
       "      <th>dailyrainin</th>\n",
       "      <th>SolarRadiationWatts/m^2</th>\n",
       "      <th>forward_min</th>\n",
       "      <th>day_of_year</th>\n",
       "      <th>hour</th>\n",
       "      <th>threshold</th>\n",
       "      <th>threshold_32</th>\n",
       "      <th>threshold_no</th>\n",
       "    </tr>\n",
       "    <tr>\n",
       "      <th>DateUTC</th>\n",
       "      <th></th>\n",
       "      <th></th>\n",
       "      <th></th>\n",
       "      <th></th>\n",
       "      <th></th>\n",
       "      <th></th>\n",
       "      <th></th>\n",
       "      <th></th>\n",
       "      <th></th>\n",
       "      <th></th>\n",
       "      <th></th>\n",
       "      <th></th>\n",
       "      <th></th>\n",
       "      <th></th>\n",
       "      <th></th>\n",
       "    </tr>\n",
       "  </thead>\n",
       "  <tbody>\n",
       "    <tr>\n",
       "      <th>2016-02-16 11:10:00-08:00</th>\n",
       "      <td>74.15</td>\n",
       "      <td>50.5</td>\n",
       "      <td>29.290000</td>\n",
       "      <td>0.0</td>\n",
       "      <td>0.0</td>\n",
       "      <td>43.5</td>\n",
       "      <td>0.0</td>\n",
       "      <td>0.0</td>\n",
       "      <td>17.480000</td>\n",
       "      <td>73.8</td>\n",
       "      <td>47</td>\n",
       "      <td>11</td>\n",
       "      <td>no</td>\n",
       "      <td>0</td>\n",
       "      <td>1</td>\n",
       "    </tr>\n",
       "    <tr>\n",
       "      <th>2016-02-16 11:15:00-08:00</th>\n",
       "      <td>74.50</td>\n",
       "      <td>50.5</td>\n",
       "      <td>29.276667</td>\n",
       "      <td>0.0</td>\n",
       "      <td>0.0</td>\n",
       "      <td>43.0</td>\n",
       "      <td>0.0</td>\n",
       "      <td>0.0</td>\n",
       "      <td>17.496667</td>\n",
       "      <td>73.8</td>\n",
       "      <td>47</td>\n",
       "      <td>11</td>\n",
       "      <td>no</td>\n",
       "      <td>0</td>\n",
       "      <td>1</td>\n",
       "    </tr>\n",
       "    <tr>\n",
       "      <th>2016-02-16 11:20:00-08:00</th>\n",
       "      <td>74.50</td>\n",
       "      <td>50.0</td>\n",
       "      <td>29.960000</td>\n",
       "      <td>0.0</td>\n",
       "      <td>0.0</td>\n",
       "      <td>42.0</td>\n",
       "      <td>0.0</td>\n",
       "      <td>0.0</td>\n",
       "      <td>17.430000</td>\n",
       "      <td>73.8</td>\n",
       "      <td>47</td>\n",
       "      <td>11</td>\n",
       "      <td>no</td>\n",
       "      <td>0</td>\n",
       "      <td>1</td>\n",
       "    </tr>\n",
       "    <tr>\n",
       "      <th>2016-02-16 11:25:00-08:00</th>\n",
       "      <td>74.70</td>\n",
       "      <td>50.2</td>\n",
       "      <td>29.950000</td>\n",
       "      <td>0.0</td>\n",
       "      <td>0.0</td>\n",
       "      <td>42.0</td>\n",
       "      <td>0.0</td>\n",
       "      <td>0.0</td>\n",
       "      <td>21.900000</td>\n",
       "      <td>73.8</td>\n",
       "      <td>47</td>\n",
       "      <td>11</td>\n",
       "      <td>no</td>\n",
       "      <td>0</td>\n",
       "      <td>1</td>\n",
       "    </tr>\n",
       "    <tr>\n",
       "      <th>2016-02-26 13:40:00-08:00</th>\n",
       "      <td>70.30</td>\n",
       "      <td>45.0</td>\n",
       "      <td>30.070000</td>\n",
       "      <td>2.0</td>\n",
       "      <td>2.5</td>\n",
       "      <td>40.0</td>\n",
       "      <td>0.0</td>\n",
       "      <td>0.0</td>\n",
       "      <td>292.400000</td>\n",
       "      <td>44.4</td>\n",
       "      <td>57</td>\n",
       "      <td>13</td>\n",
       "      <td>no</td>\n",
       "      <td>0</td>\n",
       "      <td>1</td>\n",
       "    </tr>\n",
       "  </tbody>\n",
       "</table>\n",
       "</div>"
      ],
      "text/plain": [
       "                           TemperatureF  DewpointF  PressureIn  WindSpeedMPH  \\\n",
       "DateUTC                                                                        \n",
       "2016-02-16 11:10:00-08:00         74.15       50.5   29.290000           0.0   \n",
       "2016-02-16 11:15:00-08:00         74.50       50.5   29.276667           0.0   \n",
       "2016-02-16 11:20:00-08:00         74.50       50.0   29.960000           0.0   \n",
       "2016-02-16 11:25:00-08:00         74.70       50.2   29.950000           0.0   \n",
       "2016-02-26 13:40:00-08:00         70.30       45.0   30.070000           2.0   \n",
       "\n",
       "                           WindSpeedGustMPH  Humidity  HourlyPrecipIn  \\\n",
       "DateUTC                                                                 \n",
       "2016-02-16 11:10:00-08:00               0.0      43.5             0.0   \n",
       "2016-02-16 11:15:00-08:00               0.0      43.0             0.0   \n",
       "2016-02-16 11:20:00-08:00               0.0      42.0             0.0   \n",
       "2016-02-16 11:25:00-08:00               0.0      42.0             0.0   \n",
       "2016-02-26 13:40:00-08:00               2.5      40.0             0.0   \n",
       "\n",
       "                           dailyrainin  SolarRadiationWatts/m^2  forward_min  \\\n",
       "DateUTC                                                                        \n",
       "2016-02-16 11:10:00-08:00          0.0                17.480000         73.8   \n",
       "2016-02-16 11:15:00-08:00          0.0                17.496667         73.8   \n",
       "2016-02-16 11:20:00-08:00          0.0                17.430000         73.8   \n",
       "2016-02-16 11:25:00-08:00          0.0                21.900000         73.8   \n",
       "2016-02-26 13:40:00-08:00          0.0               292.400000         44.4   \n",
       "\n",
       "                           day_of_year  hour threshold  threshold_32  \\\n",
       "DateUTC                                                                \n",
       "2016-02-16 11:10:00-08:00           47    11        no             0   \n",
       "2016-02-16 11:15:00-08:00           47    11        no             0   \n",
       "2016-02-16 11:20:00-08:00           47    11        no             0   \n",
       "2016-02-16 11:25:00-08:00           47    11        no             0   \n",
       "2016-02-26 13:40:00-08:00           57    13        no             0   \n",
       "\n",
       "                           threshold_no  \n",
       "DateUTC                                  \n",
       "2016-02-16 11:10:00-08:00             1  \n",
       "2016-02-16 11:15:00-08:00             1  \n",
       "2016-02-16 11:20:00-08:00             1  \n",
       "2016-02-16 11:25:00-08:00             1  \n",
       "2016-02-26 13:40:00-08:00             1  "
      ]
     },
     "execution_count": 6,
     "metadata": {},
     "output_type": "execute_result"
    }
   ],
   "source": [
    "resample_time = '5T'\n",
    "hour_summary = pd.DataFrame()\n",
    "hour_summary['TemperatureF'] = data.TemperatureF.resample(resample_time).mean()\n",
    "hour_summary['DewpointF'] = data.DewpointF.resample(resample_time).mean()\n",
    "hour_summary['PressureIn'] = data.PressureIn.resample(resample_time).mean()\n",
    "hour_summary['WindSpeedMPH'] = data.WindSpeedMPH.resample(resample_time).mean()\n",
    "hour_summary['WindSpeedGustMPH'] = data.WindSpeedGustMPH.resample(resample_time).mean()\n",
    "hour_summary['Humidity'] = data.Humidity.resample(resample_time).mean()\n",
    "hour_summary['HourlyPrecipIn'] = data.HourlyPrecipIn.resample(resample_time).mean()\n",
    "hour_summary['dailyrainin'] = data.dailyrainin.resample(resample_time).mean()\n",
    "hour_summary['SolarRadiationWatts/m^2'] = data[['SolarRadiationWatts/m^2']].resample(resample_time).mean()\n",
    "hour_summary['forward_min'] = data.forward_min.resample(resample_time).min()\n",
    "\n",
    "hour_summary = hour_summary[hour_summary.TemperatureF.notnull()]\n",
    "\n",
    "hour_summary = hour_summary.assign(day_of_year = hour_summary.index.dayofyear, hour = hour_summary.index.hour)\n",
    "\n",
    "\n",
    "\n",
    "hour_summary = hour_summary.assign(threshold = 'no')\n",
    "hour_summary.loc[hour_summary.forward_min < 32,'threshold'] = '32'\n",
    "\n",
    "hour_summary = hour_summary.merge(pd.get_dummies(hour_summary.threshold, prefix='threshold'), left_index=True, right_index=True)\n",
    "\n",
    "\n",
    "#data = data[:10000]\n",
    "\n",
    "hour_summary.head()"
   ]
  },
  {
   "cell_type": "code",
   "execution_count": 24,
   "metadata": {
    "ExecuteTime": {
     "end_time": "2017-08-03T20:48:50.918483Z",
     "start_time": "2017-08-03T20:48:50.887397Z"
    },
    "init_cell": true
   },
   "outputs": [
    {
     "data": {
      "text/plain": [
       "(8396, 646)"
      ]
     },
     "execution_count": 24,
     "metadata": {},
     "output_type": "execute_result"
    }
   ],
   "source": [
    "training_data = hour_summary[hour_summary.index.dayofyear%10 != 0]\n",
    "validation_data = hour_summary[hour_summary.index.dayofyear%10 == 0]\n",
    "\n",
    "training_data.threshold_32.sum(), validation_data.threshold_32.sum()"
   ]
  },
  {
   "cell_type": "code",
   "execution_count": 14,
   "metadata": {
    "ExecuteTime": {
     "end_time": "2017-08-03T20:40:06.562107Z",
     "start_time": "2017-08-03T20:40:06.559176Z"
    },
    "collapsed": true,
    "init_cell": true
   },
   "outputs": [],
   "source": [
    "seq_length=64\n",
    "fp_fn_ratio=5"
   ]
  },
  {
   "cell_type": "code",
   "execution_count": 26,
   "metadata": {
    "ExecuteTime": {
     "end_time": "2017-08-03T20:51:04.356186Z",
     "start_time": "2017-08-03T20:51:04.341264Z"
    },
    "collapsed": true
   },
   "outputs": [],
   "source": [
    "from pandas.tseries.offsets import *\n",
    "\n",
    "def create_dataset(dataset, num_outputs=1, look_back=1):\n",
    "    offset = DateOffset(minutes = (look_back-1) * 5)\n",
    "    dataX, dataY = [], []\n",
    "    for idx, row in dataset.iterrows():\n",
    "        index_end = idx\n",
    "        index_start = index_end - offset\n",
    "        new_index = pd.date_range(start=index_start, periods=look_back, freq='5T')\n",
    "        a = dataset[index_start:index_end].reindex(new_index, fill_value=0).values[:,:-num_outputs]\n",
    "        dataX.append(a)\n",
    "        dataY.append(row.values[-num_outputs:])\n",
    "    return np.array(dataX), np.array(dataY)"
   ]
  },
  {
   "cell_type": "code",
   "execution_count": 27,
   "metadata": {
    "ExecuteTime": {
     "end_time": "2017-08-03T20:53:34.694742Z",
     "start_time": "2017-08-03T20:51:06.415583Z"
    },
    "collapsed": true,
    "init_cell": true
   },
   "outputs": [],
   "source": [
    "train_x, train_y = create_dataset(training_data[['TemperatureF','DewpointF','PressureIn','WindSpeedMPH','WindSpeedGustMPH','Humidity','HourlyPrecipIn','dailyrainin','SolarRadiationWatts/m^2',\n",
    "                                                 'day_of_year', 'hour',\n",
    "                                                 'threshold_32']], 1, seq_length)\n",
    "val_x, val_y = create_dataset(validation_data[['TemperatureF','DewpointF','PressureIn','WindSpeedMPH','WindSpeedGustMPH','Humidity','HourlyPrecipIn','dailyrainin','SolarRadiationWatts/m^2',\n",
    "                                                 'day_of_year', 'hour',\n",
    "                                                 'threshold_32']], 1, seq_length)"
   ]
  },
  {
   "cell_type": "code",
   "execution_count": 28,
   "metadata": {
    "ExecuteTime": {
     "end_time": "2017-08-03T20:53:34.700896Z",
     "start_time": "2017-08-03T20:53:34.696470Z"
    },
    "init_cell": true
   },
   "outputs": [
    {
     "data": {
      "text/plain": [
       "((110073, 64, 11), (11856, 64, 11), (110073, 1), (11856, 1))"
      ]
     },
     "execution_count": 28,
     "metadata": {},
     "output_type": "execute_result"
    }
   ],
   "source": [
    "train_x.shape, val_x.shape, train_y.shape, val_y.shape"
   ]
  },
  {
   "cell_type": "code",
   "execution_count": 29,
   "metadata": {
    "ExecuteTime": {
     "end_time": "2017-08-03T20:53:35.140098Z",
     "start_time": "2017-08-03T20:53:34.702712Z"
    },
    "scrolled": false
   },
   "outputs": [
    {
     "name": "stdout",
     "output_type": "stream",
     "text": [
      "_________________________________________________________________\n",
      "Layer (type)                 Output Shape              Param #   \n",
      "=================================================================\n",
      "batch_normalization_49 (Batc (None, 64, 11)            44        \n",
      "_________________________________________________________________\n",
      "conv1d_37 (Conv1D)           (None, 64, 64)            3584      \n",
      "_________________________________________________________________\n",
      "batch_normalization_50 (Batc (None, 64, 64)            256       \n",
      "_________________________________________________________________\n",
      "conv1d_38 (Conv1D)           (None, 64, 64)            20544     \n",
      "_________________________________________________________________\n",
      "max_pooling1d_19 (MaxPooling (None, 16, 64)            0         \n",
      "_________________________________________________________________\n",
      "batch_normalization_51 (Batc (None, 16, 64)            256       \n",
      "_________________________________________________________________\n",
      "conv1d_39 (Conv1D)           (None, 16, 128)           41088     \n",
      "_________________________________________________________________\n",
      "batch_normalization_52 (Batc (None, 16, 128)           512       \n",
      "_________________________________________________________________\n",
      "conv1d_40 (Conv1D)           (None, 16, 128)           82048     \n",
      "_________________________________________________________________\n",
      "max_pooling1d_20 (MaxPooling (None, 4, 128)            0         \n",
      "_________________________________________________________________\n",
      "batch_normalization_53 (Batc (None, 4, 128)            512       \n",
      "_________________________________________________________________\n",
      "conv1d_41 (Conv1D)           (None, 4, 256)            164096    \n",
      "_________________________________________________________________\n",
      "batch_normalization_54 (Batc (None, 4, 256)            1024      \n",
      "_________________________________________________________________\n",
      "conv1d_42 (Conv1D)           (None, 4, 256)            327936    \n",
      "_________________________________________________________________\n",
      "max_pooling1d_21 (MaxPooling (None, 1, 256)            0         \n",
      "_________________________________________________________________\n",
      "batch_normalization_55 (Batc (None, 1, 256)            1024      \n",
      "_________________________________________________________________\n",
      "flatten_7 (Flatten)          (None, 256)               0         \n",
      "_________________________________________________________________\n",
      "dense_13 (Dense)             (None, 512)               131584    \n",
      "_________________________________________________________________\n",
      "batch_normalization_56 (Batc (None, 512)               2048      \n",
      "_________________________________________________________________\n",
      "dropout_10 (Dropout)         (None, 512)               0         \n",
      "_________________________________________________________________\n",
      "dense_14 (Dense)             (None, 1)                 513       \n",
      "=================================================================\n",
      "Total params: 777,069\n",
      "Trainable params: 774,231\n",
      "Non-trainable params: 2,838\n",
      "_________________________________________________________________\n"
     ]
    }
   ],
   "source": [
    "model = Sequential([\n",
    "    BatchNormalization(input_shape=(seq_length, train_x.shape[2])),\n",
    "    \n",
    "    Conv1D(64, 5, padding='causal', activation='relu'),\n",
    "    BatchNormalization(),\n",
    "    Conv1D(64, 5, padding='causal', activation='relu'),\n",
    "    MaxPooling1D(4),\n",
    "    BatchNormalization(),\n",
    "\n",
    "    Conv1D(128, 5, padding='causal', activation='relu'),\n",
    "    BatchNormalization(),\n",
    "    Conv1D(128, 5, padding='causal', activation='relu'),\n",
    "    MaxPooling1D(4),\n",
    "    BatchNormalization(),\n",
    "\n",
    "\n",
    "    Conv1D(256, 5, padding='causal', activation='relu'),\n",
    "    BatchNormalization(),\n",
    "    Conv1D(256, 5, padding='causal', activation='relu'),\n",
    "    MaxPooling1D(4),\n",
    "    BatchNormalization(),\n",
    "\n",
    "\n",
    "#     Conv1D(256, 3, padding='same', activation='relu'),\n",
    "#     BatchNormalization(),\n",
    "#     Conv1D(256, 3, padding='same', activation='relu'),\n",
    "#     BatchNormalization(),\n",
    "#     MaxPooling1D(),\n",
    "\n",
    "#     Conv1D(512, 3, padding='same', activation='relu'),\n",
    "#     BatchNormalization(),\n",
    "#     Conv1D(512, 3, padding='same', activation='relu'),\n",
    "#     BatchNormalization(),\n",
    "#     MaxPooling1D(4),\n",
    "    \n",
    "    Flatten(),\n",
    "\n",
    "    Dense(512, activation='relu'),\n",
    "    BatchNormalization(),\n",
    "    \n",
    "    Dropout(0.75),\n",
    "    Dense(train_y.shape[1], activation='sigmoid'),\n",
    "])\n",
    "model.compile(Nadam(), 'binary_crossentropy', ['binary_accuracy'])\n",
    "model.summary()"
   ]
  },
  {
   "cell_type": "code",
   "execution_count": 30,
   "metadata": {
    "ExecuteTime": {
     "end_time": "2017-08-03T20:58:25.403374Z",
     "start_time": "2017-08-03T20:53:44.502141Z"
    },
    "scrolled": false
   },
   "outputs": [
    {
     "name": "stdout",
     "output_type": "stream",
     "text": [
      "Train on 110073 samples, validate on 11856 samples\n",
      "Epoch 1/40\n",
      "110073/110073 [==============================] - 11s - loss: 0.4724 - binary_accuracy: 0.8880 - val_loss: 0.2017 - val_binary_accuracy: 0.9464\n",
      "Epoch 2/40\n",
      "110073/110073 [==============================] - 9s - loss: 0.1555 - binary_accuracy: 0.9673 - val_loss: 0.3726 - val_binary_accuracy: 0.9103\n",
      "Epoch 3/40\n",
      "110073/110073 [==============================] - 8s - loss: 0.1039 - binary_accuracy: 0.9765 - val_loss: 0.3480 - val_binary_accuracy: 0.9324\n",
      "Epoch 4/40\n",
      "110073/110073 [==============================] - 9s - loss: 0.0796 - binary_accuracy: 0.9822 - val_loss: 0.2704 - val_binary_accuracy: 0.9475\n",
      "Epoch 5/40\n",
      "110073/110073 [==============================] - 8s - loss: 0.0541 - binary_accuracy: 0.9885 - val_loss: 0.4905 - val_binary_accuracy: 0.9367\n",
      "Epoch 6/40\n",
      "110073/110073 [==============================] - 8s - loss: 0.0441 - binary_accuracy: 0.9905 - val_loss: 0.3637 - val_binary_accuracy: 0.9351\n",
      "Epoch 7/40\n",
      "109568/110073 [============================>.] - ETA: 0s - loss: 0.0441 - binary_accuracy: 0.9909\n",
      "Epoch 00006: reducing learning rate to 0.00020000000949949026.\n",
      "110073/110073 [==============================] - 9s - loss: 0.0439 - binary_accuracy: 0.9909 - val_loss: 0.3885 - val_binary_accuracy: 0.9465\n",
      "Epoch 8/40\n",
      "110073/110073 [==============================] - 9s - loss: 0.0175 - binary_accuracy: 0.9962 - val_loss: 0.3366 - val_binary_accuracy: 0.9448\n",
      "Epoch 9/40\n",
      "110073/110073 [==============================] - 9s - loss: 0.0116 - binary_accuracy: 0.9977 - val_loss: 0.3416 - val_binary_accuracy: 0.9447\n",
      "Epoch 10/40\n",
      "110073/110073 [==============================] - 9s - loss: 0.0101 - binary_accuracy: 0.9978 - val_loss: 0.3659 - val_binary_accuracy: 0.9448\n",
      "Epoch 11/40\n",
      "110073/110073 [==============================] - 9s - loss: 0.0075 - binary_accuracy: 0.9985 - val_loss: 0.3718 - val_binary_accuracy: 0.9439\n",
      "Epoch 12/40\n",
      "109568/110073 [============================>.] - ETA: 0s - loss: 0.0069 - binary_accuracy: 0.9986\n",
      "Epoch 00011: reducing learning rate to 2.0000000949949027e-05.\n",
      "110073/110073 [==============================] - 9s - loss: 0.0068 - binary_accuracy: 0.9986 - val_loss: 0.4277 - val_binary_accuracy: 0.9437\n",
      "Epoch 13/40\n",
      "110073/110073 [==============================] - 8s - loss: 0.0056 - binary_accuracy: 0.9989 - val_loss: 0.4158 - val_binary_accuracy: 0.9453\n",
      "Epoch 14/40\n",
      "110073/110073 [==============================] - 9s - loss: 0.0051 - binary_accuracy: 0.9990 - val_loss: 0.4151 - val_binary_accuracy: 0.9465\n",
      "Epoch 15/40\n",
      "110073/110073 [==============================] - 9s - loss: 0.0045 - binary_accuracy: 0.9992 - val_loss: 0.4140 - val_binary_accuracy: 0.9468\n",
      "Epoch 16/40\n",
      "110073/110073 [==============================] - 9s - loss: 0.0046 - binary_accuracy: 0.9990 - val_loss: 0.4152 - val_binary_accuracy: 0.9470\n",
      "Epoch 17/40\n",
      "109568/110073 [============================>.] - ETA: 0s - loss: 0.0043 - binary_accuracy: 0.9992\n",
      "Epoch 00016: reducing learning rate to 2.0000001313746906e-06.\n",
      "110073/110073 [==============================] - 9s - loss: 0.0043 - binary_accuracy: 0.9992 - val_loss: 0.4137 - val_binary_accuracy: 0.9469\n",
      "Epoch 18/40\n",
      "110073/110073 [==============================] - 9s - loss: 0.0044 - binary_accuracy: 0.9992 - val_loss: 0.4160 - val_binary_accuracy: 0.9472\n",
      "Epoch 19/40\n",
      "110073/110073 [==============================] - 9s - loss: 0.0044 - binary_accuracy: 0.9992 - val_loss: 0.4168 - val_binary_accuracy: 0.9471\n",
      "Epoch 20/40\n",
      "110073/110073 [==============================] - 9s - loss: 0.0044 - binary_accuracy: 0.9992 - val_loss: 0.4169 - val_binary_accuracy: 0.9473\n",
      "Epoch 21/40\n",
      "110073/110073 [==============================] - 9s - loss: 0.0038 - binary_accuracy: 0.9992 - val_loss: 0.4172 - val_binary_accuracy: 0.9473\n",
      "Epoch 22/40\n",
      "109568/110073 [============================>.] - ETA: 0s - loss: 0.0046 - binary_accuracy: 0.9992\n",
      "Epoch 00021: reducing learning rate to 2.000000222324161e-07.\n",
      "110073/110073 [==============================] - 9s - loss: 0.0046 - binary_accuracy: 0.9992 - val_loss: 0.4174 - val_binary_accuracy: 0.9471\n",
      "Epoch 23/40\n",
      "110073/110073 [==============================] - 9s - loss: 0.0044 - binary_accuracy: 0.9992 - val_loss: 0.4175 - val_binary_accuracy: 0.9470\n",
      "Epoch 24/40\n",
      "110073/110073 [==============================] - 9s - loss: 0.0039 - binary_accuracy: 0.9993 - val_loss: 0.4174 - val_binary_accuracy: 0.9471\n",
      "Epoch 25/40\n",
      "110073/110073 [==============================] - 9s - loss: 0.0041 - binary_accuracy: 0.9992 - val_loss: 0.4180 - val_binary_accuracy: 0.9471\n",
      "Epoch 26/40\n",
      "110073/110073 [==============================] - 9s - loss: 0.0041 - binary_accuracy: 0.9993 - val_loss: 0.4177 - val_binary_accuracy: 0.9470\n",
      "Epoch 27/40\n",
      "109568/110073 [============================>.] - ETA: 0s - loss: 0.0040 - binary_accuracy: 0.9992\n",
      "Epoch 00026: reducing learning rate to 2.000000165480742e-08.\n",
      "110073/110073 [==============================] - 9s - loss: 0.0041 - binary_accuracy: 0.9992 - val_loss: 0.4175 - val_binary_accuracy: 0.9471\n",
      "Epoch 28/40\n",
      "110073/110073 [==============================] - 9s - loss: 0.0042 - binary_accuracy: 0.9992 - val_loss: 0.4179 - val_binary_accuracy: 0.9471\n",
      "Epoch 29/40\n",
      "110073/110073 [==============================] - 9s - loss: 0.0042 - binary_accuracy: 0.9992 - val_loss: 0.4178 - val_binary_accuracy: 0.9470\n",
      "Epoch 30/40\n",
      "110073/110073 [==============================] - 9s - loss: 0.0042 - binary_accuracy: 0.9992 - val_loss: 0.4175 - val_binary_accuracy: 0.9471\n",
      "Epoch 31/40\n",
      " 69632/110073 [=================>............] - ETA: 3s - loss: 0.0040 - binary_accuracy: 0.9993"
     ]
    },
    {
     "ename": "KeyboardInterrupt",
     "evalue": "",
     "output_type": "error",
     "traceback": [
      "\u001b[0;31m---------------------------------------------------------------------------\u001b[0m",
      "\u001b[0;31mKeyboardInterrupt\u001b[0m                         Traceback (most recent call last)",
      "\u001b[0;32m<ipython-input-30-f32702724652>\u001b[0m in \u001b[0;36m<module>\u001b[0;34m()\u001b[0m\n\u001b[1;32m      4\u001b[0m           \u001b[0mvalidation_data\u001b[0m\u001b[0;34m=\u001b[0m\u001b[0;34m(\u001b[0m\u001b[0mval_x\u001b[0m\u001b[0;34m,\u001b[0m \u001b[0mval_y\u001b[0m\u001b[0;34m)\u001b[0m\u001b[0;34m,\u001b[0m\u001b[0;34m\u001b[0m\u001b[0m\n\u001b[1;32m      5\u001b[0m           \u001b[0mclass_weight\u001b[0m\u001b[0;34m=\u001b[0m\u001b[0;34m{\u001b[0m\u001b[0;36m0\u001b[0m\u001b[0;34m:\u001b[0m\u001b[0;36m1\u001b[0m\u001b[0;34m,\u001b[0m \u001b[0;36m1\u001b[0m\u001b[0;34m:\u001b[0m\u001b[0mfp_fn_ratio\u001b[0m\u001b[0;34m}\u001b[0m\u001b[0;34m,\u001b[0m\u001b[0;34m\u001b[0m\u001b[0m\n\u001b[0;32m----> 6\u001b[0;31m           callbacks=[ReduceLROnPlateau(patience=5, verbose=1)])\n\u001b[0m",
      "\u001b[0;32m~/src/anaconda3/lib/python3.5/site-packages/Keras-2.0.6-py3.5.egg/keras/models.py\u001b[0m in \u001b[0;36mfit\u001b[0;34m(self, x, y, batch_size, epochs, verbose, callbacks, validation_split, validation_data, shuffle, class_weight, sample_weight, initial_epoch, **kwargs)\u001b[0m\n\u001b[1;32m    863\u001b[0m                               \u001b[0mclass_weight\u001b[0m\u001b[0;34m=\u001b[0m\u001b[0mclass_weight\u001b[0m\u001b[0;34m,\u001b[0m\u001b[0;34m\u001b[0m\u001b[0m\n\u001b[1;32m    864\u001b[0m                               \u001b[0msample_weight\u001b[0m\u001b[0;34m=\u001b[0m\u001b[0msample_weight\u001b[0m\u001b[0;34m,\u001b[0m\u001b[0;34m\u001b[0m\u001b[0m\n\u001b[0;32m--> 865\u001b[0;31m                               initial_epoch=initial_epoch)\n\u001b[0m\u001b[1;32m    866\u001b[0m \u001b[0;34m\u001b[0m\u001b[0m\n\u001b[1;32m    867\u001b[0m     def evaluate(self, x, y, batch_size=32, verbose=1,\n",
      "\u001b[0;32m~/src/anaconda3/lib/python3.5/site-packages/Keras-2.0.6-py3.5.egg/keras/engine/training.py\u001b[0m in \u001b[0;36mfit\u001b[0;34m(self, x, y, batch_size, epochs, verbose, callbacks, validation_split, validation_data, shuffle, class_weight, sample_weight, initial_epoch, **kwargs)\u001b[0m\n\u001b[1;32m   1428\u001b[0m                               \u001b[0mval_f\u001b[0m\u001b[0;34m=\u001b[0m\u001b[0mval_f\u001b[0m\u001b[0;34m,\u001b[0m \u001b[0mval_ins\u001b[0m\u001b[0;34m=\u001b[0m\u001b[0mval_ins\u001b[0m\u001b[0;34m,\u001b[0m \u001b[0mshuffle\u001b[0m\u001b[0;34m=\u001b[0m\u001b[0mshuffle\u001b[0m\u001b[0;34m,\u001b[0m\u001b[0;34m\u001b[0m\u001b[0m\n\u001b[1;32m   1429\u001b[0m                               \u001b[0mcallback_metrics\u001b[0m\u001b[0;34m=\u001b[0m\u001b[0mcallback_metrics\u001b[0m\u001b[0;34m,\u001b[0m\u001b[0;34m\u001b[0m\u001b[0m\n\u001b[0;32m-> 1430\u001b[0;31m                               initial_epoch=initial_epoch)\n\u001b[0m\u001b[1;32m   1431\u001b[0m \u001b[0;34m\u001b[0m\u001b[0m\n\u001b[1;32m   1432\u001b[0m     \u001b[0;32mdef\u001b[0m \u001b[0mevaluate\u001b[0m\u001b[0;34m(\u001b[0m\u001b[0mself\u001b[0m\u001b[0;34m,\u001b[0m \u001b[0mx\u001b[0m\u001b[0;34m,\u001b[0m \u001b[0my\u001b[0m\u001b[0;34m,\u001b[0m \u001b[0mbatch_size\u001b[0m\u001b[0;34m=\u001b[0m\u001b[0;36m32\u001b[0m\u001b[0;34m,\u001b[0m \u001b[0mverbose\u001b[0m\u001b[0;34m=\u001b[0m\u001b[0;36m1\u001b[0m\u001b[0;34m,\u001b[0m \u001b[0msample_weight\u001b[0m\u001b[0;34m=\u001b[0m\u001b[0;32mNone\u001b[0m\u001b[0;34m)\u001b[0m\u001b[0;34m:\u001b[0m\u001b[0;34m\u001b[0m\u001b[0m\n",
      "\u001b[0;32m~/src/anaconda3/lib/python3.5/site-packages/Keras-2.0.6-py3.5.egg/keras/engine/training.py\u001b[0m in \u001b[0;36m_fit_loop\u001b[0;34m(self, f, ins, out_labels, batch_size, epochs, verbose, callbacks, val_f, val_ins, shuffle, callback_metrics, initial_epoch)\u001b[0m\n\u001b[1;32m   1077\u001b[0m                 \u001b[0mbatch_logs\u001b[0m\u001b[0;34m[\u001b[0m\u001b[0;34m'size'\u001b[0m\u001b[0;34m]\u001b[0m \u001b[0;34m=\u001b[0m \u001b[0mlen\u001b[0m\u001b[0;34m(\u001b[0m\u001b[0mbatch_ids\u001b[0m\u001b[0;34m)\u001b[0m\u001b[0;34m\u001b[0m\u001b[0m\n\u001b[1;32m   1078\u001b[0m                 \u001b[0mcallbacks\u001b[0m\u001b[0;34m.\u001b[0m\u001b[0mon_batch_begin\u001b[0m\u001b[0;34m(\u001b[0m\u001b[0mbatch_index\u001b[0m\u001b[0;34m,\u001b[0m \u001b[0mbatch_logs\u001b[0m\u001b[0;34m)\u001b[0m\u001b[0;34m\u001b[0m\u001b[0m\n\u001b[0;32m-> 1079\u001b[0;31m                 \u001b[0mouts\u001b[0m \u001b[0;34m=\u001b[0m \u001b[0mf\u001b[0m\u001b[0;34m(\u001b[0m\u001b[0mins_batch\u001b[0m\u001b[0;34m)\u001b[0m\u001b[0;34m\u001b[0m\u001b[0m\n\u001b[0m\u001b[1;32m   1080\u001b[0m                 \u001b[0;32mif\u001b[0m \u001b[0;32mnot\u001b[0m \u001b[0misinstance\u001b[0m\u001b[0;34m(\u001b[0m\u001b[0mouts\u001b[0m\u001b[0;34m,\u001b[0m \u001b[0mlist\u001b[0m\u001b[0;34m)\u001b[0m\u001b[0;34m:\u001b[0m\u001b[0;34m\u001b[0m\u001b[0m\n\u001b[1;32m   1081\u001b[0m                     \u001b[0mouts\u001b[0m \u001b[0;34m=\u001b[0m \u001b[0;34m[\u001b[0m\u001b[0mouts\u001b[0m\u001b[0;34m]\u001b[0m\u001b[0;34m\u001b[0m\u001b[0m\n",
      "\u001b[0;32m~/src/anaconda3/lib/python3.5/site-packages/Keras-2.0.6-py3.5.egg/keras/backend/tensorflow_backend.py\u001b[0m in \u001b[0;36m__call__\u001b[0;34m(self, inputs)\u001b[0m\n\u001b[1;32m   2255\u001b[0m         updated = session.run(self.outputs + [self.updates_op],\n\u001b[1;32m   2256\u001b[0m                               \u001b[0mfeed_dict\u001b[0m\u001b[0;34m=\u001b[0m\u001b[0mfeed_dict\u001b[0m\u001b[0;34m,\u001b[0m\u001b[0;34m\u001b[0m\u001b[0m\n\u001b[0;32m-> 2257\u001b[0;31m                               **self.session_kwargs)\n\u001b[0m\u001b[1;32m   2258\u001b[0m         \u001b[0;32mreturn\u001b[0m \u001b[0mupdated\u001b[0m\u001b[0;34m[\u001b[0m\u001b[0;34m:\u001b[0m\u001b[0mlen\u001b[0m\u001b[0;34m(\u001b[0m\u001b[0mself\u001b[0m\u001b[0;34m.\u001b[0m\u001b[0moutputs\u001b[0m\u001b[0;34m)\u001b[0m\u001b[0;34m]\u001b[0m\u001b[0;34m\u001b[0m\u001b[0m\n\u001b[1;32m   2259\u001b[0m \u001b[0;34m\u001b[0m\u001b[0m\n",
      "\u001b[0;32m~/src/anaconda3/lib/python3.5/site-packages/tensorflow/python/client/session.py\u001b[0m in \u001b[0;36mrun\u001b[0;34m(self, fetches, feed_dict, options, run_metadata)\u001b[0m\n\u001b[1;32m    893\u001b[0m     \u001b[0;32mtry\u001b[0m\u001b[0;34m:\u001b[0m\u001b[0;34m\u001b[0m\u001b[0m\n\u001b[1;32m    894\u001b[0m       result = self._run(None, fetches, feed_dict, options_ptr,\n\u001b[0;32m--> 895\u001b[0;31m                          run_metadata_ptr)\n\u001b[0m\u001b[1;32m    896\u001b[0m       \u001b[0;32mif\u001b[0m \u001b[0mrun_metadata\u001b[0m\u001b[0;34m:\u001b[0m\u001b[0;34m\u001b[0m\u001b[0m\n\u001b[1;32m    897\u001b[0m         \u001b[0mproto_data\u001b[0m \u001b[0;34m=\u001b[0m \u001b[0mtf_session\u001b[0m\u001b[0;34m.\u001b[0m\u001b[0mTF_GetBuffer\u001b[0m\u001b[0;34m(\u001b[0m\u001b[0mrun_metadata_ptr\u001b[0m\u001b[0;34m)\u001b[0m\u001b[0;34m\u001b[0m\u001b[0m\n",
      "\u001b[0;32m~/src/anaconda3/lib/python3.5/site-packages/tensorflow/python/client/session.py\u001b[0m in \u001b[0;36m_run\u001b[0;34m(self, handle, fetches, feed_dict, options, run_metadata)\u001b[0m\n\u001b[1;32m   1122\u001b[0m     \u001b[0;32mif\u001b[0m \u001b[0mfinal_fetches\u001b[0m \u001b[0;32mor\u001b[0m \u001b[0mfinal_targets\u001b[0m \u001b[0;32mor\u001b[0m \u001b[0;34m(\u001b[0m\u001b[0mhandle\u001b[0m \u001b[0;32mand\u001b[0m \u001b[0mfeed_dict_tensor\u001b[0m\u001b[0;34m)\u001b[0m\u001b[0;34m:\u001b[0m\u001b[0;34m\u001b[0m\u001b[0m\n\u001b[1;32m   1123\u001b[0m       results = self._do_run(handle, final_targets, final_fetches,\n\u001b[0;32m-> 1124\u001b[0;31m                              feed_dict_tensor, options, run_metadata)\n\u001b[0m\u001b[1;32m   1125\u001b[0m     \u001b[0;32melse\u001b[0m\u001b[0;34m:\u001b[0m\u001b[0;34m\u001b[0m\u001b[0m\n\u001b[1;32m   1126\u001b[0m       \u001b[0mresults\u001b[0m \u001b[0;34m=\u001b[0m \u001b[0;34m[\u001b[0m\u001b[0;34m]\u001b[0m\u001b[0;34m\u001b[0m\u001b[0m\n",
      "\u001b[0;32m~/src/anaconda3/lib/python3.5/site-packages/tensorflow/python/client/session.py\u001b[0m in \u001b[0;36m_do_run\u001b[0;34m(self, handle, target_list, fetch_list, feed_dict, options, run_metadata)\u001b[0m\n\u001b[1;32m   1319\u001b[0m     \u001b[0;32mif\u001b[0m \u001b[0mhandle\u001b[0m \u001b[0;32mis\u001b[0m \u001b[0;32mNone\u001b[0m\u001b[0;34m:\u001b[0m\u001b[0;34m\u001b[0m\u001b[0m\n\u001b[1;32m   1320\u001b[0m       return self._do_call(_run_fn, self._session, feeds, fetches, targets,\n\u001b[0;32m-> 1321\u001b[0;31m                            options, run_metadata)\n\u001b[0m\u001b[1;32m   1322\u001b[0m     \u001b[0;32melse\u001b[0m\u001b[0;34m:\u001b[0m\u001b[0;34m\u001b[0m\u001b[0m\n\u001b[1;32m   1323\u001b[0m       \u001b[0;32mreturn\u001b[0m \u001b[0mself\u001b[0m\u001b[0;34m.\u001b[0m\u001b[0m_do_call\u001b[0m\u001b[0;34m(\u001b[0m\u001b[0m_prun_fn\u001b[0m\u001b[0;34m,\u001b[0m \u001b[0mself\u001b[0m\u001b[0;34m.\u001b[0m\u001b[0m_session\u001b[0m\u001b[0;34m,\u001b[0m \u001b[0mhandle\u001b[0m\u001b[0;34m,\u001b[0m \u001b[0mfeeds\u001b[0m\u001b[0;34m,\u001b[0m \u001b[0mfetches\u001b[0m\u001b[0;34m)\u001b[0m\u001b[0;34m\u001b[0m\u001b[0m\n",
      "\u001b[0;32m~/src/anaconda3/lib/python3.5/site-packages/tensorflow/python/client/session.py\u001b[0m in \u001b[0;36m_do_call\u001b[0;34m(self, fn, *args)\u001b[0m\n\u001b[1;32m   1325\u001b[0m   \u001b[0;32mdef\u001b[0m \u001b[0m_do_call\u001b[0m\u001b[0;34m(\u001b[0m\u001b[0mself\u001b[0m\u001b[0;34m,\u001b[0m \u001b[0mfn\u001b[0m\u001b[0;34m,\u001b[0m \u001b[0;34m*\u001b[0m\u001b[0margs\u001b[0m\u001b[0;34m)\u001b[0m\u001b[0;34m:\u001b[0m\u001b[0;34m\u001b[0m\u001b[0m\n\u001b[1;32m   1326\u001b[0m     \u001b[0;32mtry\u001b[0m\u001b[0;34m:\u001b[0m\u001b[0;34m\u001b[0m\u001b[0m\n\u001b[0;32m-> 1327\u001b[0;31m       \u001b[0;32mreturn\u001b[0m \u001b[0mfn\u001b[0m\u001b[0;34m(\u001b[0m\u001b[0;34m*\u001b[0m\u001b[0margs\u001b[0m\u001b[0;34m)\u001b[0m\u001b[0;34m\u001b[0m\u001b[0m\n\u001b[0m\u001b[1;32m   1328\u001b[0m     \u001b[0;32mexcept\u001b[0m \u001b[0merrors\u001b[0m\u001b[0;34m.\u001b[0m\u001b[0mOpError\u001b[0m \u001b[0;32mas\u001b[0m \u001b[0me\u001b[0m\u001b[0;34m:\u001b[0m\u001b[0;34m\u001b[0m\u001b[0m\n\u001b[1;32m   1329\u001b[0m       \u001b[0mmessage\u001b[0m \u001b[0;34m=\u001b[0m \u001b[0mcompat\u001b[0m\u001b[0;34m.\u001b[0m\u001b[0mas_text\u001b[0m\u001b[0;34m(\u001b[0m\u001b[0me\u001b[0m\u001b[0;34m.\u001b[0m\u001b[0mmessage\u001b[0m\u001b[0;34m)\u001b[0m\u001b[0;34m\u001b[0m\u001b[0m\n",
      "\u001b[0;32m~/src/anaconda3/lib/python3.5/site-packages/tensorflow/python/client/session.py\u001b[0m in \u001b[0;36m_run_fn\u001b[0;34m(session, feed_dict, fetch_list, target_list, options, run_metadata)\u001b[0m\n\u001b[1;32m   1304\u001b[0m           return tf_session.TF_Run(session, options,\n\u001b[1;32m   1305\u001b[0m                                    \u001b[0mfeed_dict\u001b[0m\u001b[0;34m,\u001b[0m \u001b[0mfetch_list\u001b[0m\u001b[0;34m,\u001b[0m \u001b[0mtarget_list\u001b[0m\u001b[0;34m,\u001b[0m\u001b[0;34m\u001b[0m\u001b[0m\n\u001b[0;32m-> 1306\u001b[0;31m                                    status, run_metadata)\n\u001b[0m\u001b[1;32m   1307\u001b[0m \u001b[0;34m\u001b[0m\u001b[0m\n\u001b[1;32m   1308\u001b[0m     \u001b[0;32mdef\u001b[0m \u001b[0m_prun_fn\u001b[0m\u001b[0;34m(\u001b[0m\u001b[0msession\u001b[0m\u001b[0;34m,\u001b[0m \u001b[0mhandle\u001b[0m\u001b[0;34m,\u001b[0m \u001b[0mfeed_dict\u001b[0m\u001b[0;34m,\u001b[0m \u001b[0mfetch_list\u001b[0m\u001b[0;34m)\u001b[0m\u001b[0;34m:\u001b[0m\u001b[0;34m\u001b[0m\u001b[0m\n",
      "\u001b[0;31mKeyboardInterrupt\u001b[0m: "
     ]
    }
   ],
   "source": [
    "model.fit(train_x, train_y,\n",
    "          epochs=20,\n",
    "          batch_size=batch_size,\n",
    "          validation_data=(val_x, val_y),\n",
    "          class_weight={0:1, 1:fp_fn_ratio},\n",
    "          callbacks=[ReduceLROnPlateau(patience=5, verbose=1)])"
   ]
  },
  {
   "cell_type": "code",
   "execution_count": 31,
   "metadata": {
    "ExecuteTime": {
     "end_time": "2017-08-03T20:58:33.498333Z",
     "start_time": "2017-08-03T20:58:32.482543Z"
    }
   },
   "outputs": [
    {
     "data": {
      "text/plain": [
       "[<matplotlib.lines.Line2D at 0x7f6f58b57e10>]"
      ]
     },
     "execution_count": 31,
     "metadata": {},
     "output_type": "execute_result"
    },
    {
     "data": {
      "image/png": "[encoded data removed]",
      "text/plain": [
       "<matplotlib.figure.Figure at 0x7f6f58b81438>"
      ]
     },
     "metadata": {},
     "output_type": "display_data"
    }
   ],
   "source": [
    "plt.figure(figsize=(24,5))\n",
    "plt.plot(val_y-np.round(model.predict(val_x, batch_size=batch_size)), 'r')"
   ]
  },
  {
   "cell_type": "code",
   "execution_count": null,
   "metadata": {
    "ExecuteTime": {
     "end_time": "2017-08-03T18:56:52.975368Z",
     "start_time": "2017-08-03T18:56:52.949804Z"
    }
   },
   "outputs": [],
   "source": [
    "val_pseudo = np.round(model.predict(val_x, batch_size=batch_size))\n",
    "combo_x = np.concatenate((train_x, val_x))\n",
    "combo_y = np.concatenate((train_y, val_pseudo))\n",
    "train_x.shape, val_x.shape, combo_x.shape, train_y.shape, val_y.shape, combo_y.shape"
   ]
  },
  {
   "cell_type": "code",
   "execution_count": null,
   "metadata": {
    "ExecuteTime": {
     "end_time": "2017-08-03T18:57:55.036132Z",
     "start_time": "2017-08-03T18:57:09.468803Z"
    },
    "scrolled": false
   },
   "outputs": [],
   "source": [
    "model.fit(train_x, train_y,\n",
    "          epochs=40,\n",
    "          batch_size=batch_size,\n",
    "          validation_data=(val_x, val_y),\n",
    "          class_weight={0:1, 1:fp_fn_ratio},\n",
    "          callbacks=[ReduceLROnPlateau(patience=5, verbose=1)])"
   ]
  },
  {
   "cell_type": "code",
   "execution_count": null,
   "metadata": {
    "ExecuteTime": {
     "end_time": "2017-08-03T18:58:03.544147Z",
     "start_time": "2017-08-03T18:58:03.183832Z"
    }
   },
   "outputs": [],
   "source": [
    "plt.figure(figsize=(24,5))\n",
    "plt.plot(val_y-np.round(model.predict(val_x, batch_size=batch_size)), 'r')"
   ]
  },
  {
   "cell_type": "code",
   "execution_count": 32,
   "metadata": {
    "ExecuteTime": {
     "end_time": "2017-08-03T20:58:38.554056Z",
     "start_time": "2017-08-03T20:58:37.924864Z"
    }
   },
   "outputs": [
    {
     "data": {
      "text/plain": [
       "[<matplotlib.lines.Line2D at 0x7f6f58af0f60>]"
      ]
     },
     "execution_count": 32,
     "metadata": {},
     "output_type": "execute_result"
    },
    {
     "data": {
      "image/png": "[encoded data removed]",
      "text/plain": [
       "<matplotlib.figure.Figure at 0x7f6f58b807b8>"
      ]
     },
     "metadata": {},
     "output_type": "display_data"
    }
   ],
   "source": [
    "plt.figure(figsize=(24,5))\n",
    "plt.plot((val_y-np.round(model.predict(val_x, batch_size=batch_size)))*100, 'r')\n",
    "plt.plot(validation_data.TemperatureF.as_matrix(), 'g')\n",
    "plt.plot(validation_data.forward_min.as_matrix(), 'c')"
   ]
  },
  {
   "cell_type": "code",
   "execution_count": null,
   "metadata": {
    "collapsed": true
   },
   "outputs": [],
   "source": []
  }
 ],
 "metadata": {
  "celltoolbar": "Initialization Cell",
  "kernelspec": {
   "display_name": "Python [default]",
   "language": "python",
   "name": "python3"
  },
  "language_info": {
   "codemirror_mode": {
    "name": "ipython",
    "version": 3
   },
   "file_extension": ".py",
   "mimetype": "text/x-python",
   "name": "python",
   "nbconvert_exporter": "python",
   "pygments_lexer": "ipython3",
   "version": "3.5.3"
  },
  "toc": {
   "colors": {
    "hover_highlight": "#DAA520",
    "navigate_num": "#000000",
    "navigate_text": "#333333",
    "running_highlight": "#FF0000",
    "selected_highlight": "#FFD700",
    "sidebar_border": "#EEEEEE",
    "wrapper_background": "#FFFFFF"
   },
   "moveMenuLeft": true,
   "nav_menu": {
    "height": "12px",
    "width": "252px"
   },
   "navigate_menu": true,
   "number_sections": true,
   "sideBar": true,
   "threshold": 4,
   "toc_cell": false,
   "toc_section_display": "block",
   "toc_window_display": true,
   "widenNotebook": false
  }
 },
 "nbformat": 4,
 "nbformat_minor": 2
}
