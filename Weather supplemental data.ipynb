{
 "cells": [
  {
   "cell_type": "markdown",
   "metadata": {},
   "source": [
    "# Initialization"
   ]
  },
  {
   "cell_type": "code",
   "execution_count": 15,
   "metadata": {
    "ExecuteTime": {
     "end_time": "2018-02-14T04:19:38.084768Z",
     "start_time": "2018-02-14T04:19:38.081064Z"
    },
    "init_cell": true
   },
   "outputs": [
    {
     "data": {
      "application/javascript": [
       "IPython.OutputArea.auto_scroll_threshold = 9999;"
      ],
      "text/plain": [
       "<IPython.core.display.Javascript object>"
      ]
     },
     "metadata": {},
     "output_type": "display_data"
    }
   ],
   "source": [
    "%%javascript\n",
    "IPython.OutputArea.auto_scroll_threshold = 9999;"
   ]
  },
  {
   "cell_type": "code",
   "execution_count": 16,
   "metadata": {
    "ExecuteTime": {
     "end_time": "2018-02-14T04:19:38.096212Z",
     "start_time": "2018-02-14T04:19:38.087091Z"
    },
    "init_cell": true
   },
   "outputs": [],
   "source": [
    "%matplotlib inline\n",
    "from importlib import reload\n",
    "import utils; reload(utils)\n",
    "from utils import *\n",
    "from __future__ import division, print_function\n",
    "path = \"data/weather/\"\n",
    "model_path = path + 'models/'"
   ]
  },
  {
   "cell_type": "markdown",
   "metadata": {},
   "source": [
    "## Model params\n",
    "\n",
    "- `batch_size` is the training minibatch size: 64-128 seems to work fairly well\n",
    "- `seq_length` is the number of time samples spread through the previous week to feed into the model for prediction.  32 might be overkill but gives a lot of data for the model to spot patterns on.\n",
    "- `fp_fn_ratio` is the relative cost of a false negative over a false postive.  That is, if set to `10`, then *not* turning on the sprinklers when there is a frost is considered to be 10x as bad as turning on the sprinklers when there is no frost."
   ]
  },
  {
   "cell_type": "code",
   "execution_count": 138,
   "metadata": {
    "ExecuteTime": {
     "end_time": "2018-02-14T04:58:16.174531Z",
     "start_time": "2018-02-14T04:58:16.171246Z"
    },
    "init_cell": true
   },
   "outputs": [],
   "source": [
    "batch_size=8\n",
    "seq_length=144\n",
    "fp_fn_ratio=3"
   ]
  },
  {
   "cell_type": "markdown",
   "metadata": {},
   "source": [
    "# Historic Data"
   ]
  },
  {
   "cell_type": "markdown",
   "metadata": {},
   "source": [
    "## Actuals from Wunderground\n",
    "\n",
    "We read in the raw historic data from the CSV file that we pulled from Wunderground using https://github.com/CienegaOrchards/weather-download\n",
    "\n",
    "The timestamps in there are UTC, but we care about local time, so adjust for that.\n",
    "Some rows are duplicated in the CSV for some reason; so trim those.  There's also some entries where the data is corrupted, so remove those too.\n",
    "\n",
    "Then, what we want to try and predict is whether or not the temperature will drop below some threshold within the next 10 hours.  So we do a rolling window looking forward 10 hours and figure out what the minimum temperature will be in that time.  Pandas doesn't do rolling windows forward, so we do a rolling window backwards and then shift that by 10 hours.\n",
    "\n",
    "Once we have the rolling look-forward minimums, we also figure out the day-of-year (which the model can use to infer seasonal weather patterns), and hour-of-day (so the model can figure out daily patterns).\n",
    "\n",
    "We then construct a field called `threshold` which tracks whether the look-ahead temp crosses some threshold temp.  We can have a model that tries to forecast *which* threshold we cross by introducing multiple thresholds here, or just have a single threshold.  Then we one-hot that threshold field."
   ]
  },
  {
   "cell_type": "code",
   "execution_count": 139,
   "metadata": {
    "ExecuteTime": {
     "end_time": "2018-02-14T04:58:17.239585Z",
     "start_time": "2018-02-14T04:58:16.630148Z"
    },
    "init_cell": true
   },
   "outputs": [],
   "source": [
    "data = pd.read_csv(path + 'wunderground-data.csv', index_col='DateUTC', parse_dates=['DateUTC'],\n",
    "                   usecols=['DateUTC','TemperatureF','DewpointF','PressureIn',\n",
    "                            'WindDirection','WindSpeedMPH','WindSpeedGustMPH','Humidity','HourlyPrecipIn',\n",
    "                            'dailyrainin','SolarRadiationWatts/m^2'],\n",
    "                  dtype={'WindDirection': 'category'})\n",
    "data.index = data.index.tz_localize('UTC', ambiguous='infer').tz_convert('US/Pacific')\n",
    "data.drop_duplicates(inplace=True)\n",
    "\n",
    "data = data[data.TemperatureF > 0] # Remove bad temp\n",
    "data = data[data.PressureIn   > 0] # Remove bad pressure\n",
    "data = data[data.HourlyPrecipIn >= 0] # Remove bad rainfall\n",
    "\n",
    "data = data.resample('5Min').nearest()\n",
    "\n",
    "data = data.assign(forward_min = data.rolling('24h', closed='both').TemperatureF.min().shift(-1,'24h').asof(data.index))\n",
    "\n",
    "# Add some categorical date elements for day-of-year, hour, month -- we'll create embeddings for those in the model\n",
    "data = data.assign(month = data.index.month, week = data.index.week, hour = data.index.hour)\n",
    "data.month = data.month.astype('category')\n",
    "data.week = data.week.astype('category')\n",
    "data.hour = data.hour.astype('category')"
   ]
  },
  {
   "cell_type": "markdown",
   "metadata": {},
   "source": [
    "## Historic forecasts as recorded in Dynamo weather_log table"
   ]
  },
  {
   "cell_type": "code",
   "execution_count": 140,
   "metadata": {
    "ExecuteTime": {
     "end_time": "2018-02-14T04:58:17.400165Z",
     "start_time": "2018-02-14T04:58:17.241334Z"
    },
    "init_cell": true
   },
   "outputs": [
    {
     "data": {
      "text/html": [
       "<div>\n",
       "<style scoped>\n",
       "    .dataframe tbody tr th:only-of-type {\n",
       "        vertical-align: middle;\n",
       "    }\n",
       "\n",
       "    .dataframe tbody tr th {\n",
       "        vertical-align: top;\n",
       "    }\n",
       "\n",
       "    .dataframe thead th {\n",
       "        text-align: right;\n",
       "    }\n",
       "</style>\n",
       "<table border=\"1\" class=\"dataframe\">\n",
       "  <thead>\n",
       "    <tr style=\"text-align: right;\">\n",
       "      <th></th>\n",
       "      <th>TemperatureF</th>\n",
       "      <th>DewpointF</th>\n",
       "      <th>PressureIn</th>\n",
       "      <th>WindDirection</th>\n",
       "      <th>WindSpeedMPH</th>\n",
       "      <th>WindSpeedGustMPH</th>\n",
       "      <th>Humidity</th>\n",
       "      <th>HourlyPrecipIn</th>\n",
       "      <th>dailyrainin</th>\n",
       "      <th>SolarRadiationWatts/m^2</th>\n",
       "      <th>forward_min</th>\n",
       "      <th>month</th>\n",
       "      <th>week</th>\n",
       "      <th>hour</th>\n",
       "      <th>forecast</th>\n",
       "    </tr>\n",
       "    <tr>\n",
       "      <th>DateUTC</th>\n",
       "      <th></th>\n",
       "      <th></th>\n",
       "      <th></th>\n",
       "      <th></th>\n",
       "      <th></th>\n",
       "      <th></th>\n",
       "      <th></th>\n",
       "      <th></th>\n",
       "      <th></th>\n",
       "      <th></th>\n",
       "      <th></th>\n",
       "      <th></th>\n",
       "      <th></th>\n",
       "      <th></th>\n",
       "      <th></th>\n",
       "    </tr>\n",
       "  </thead>\n",
       "  <tbody>\n",
       "    <tr>\n",
       "      <th>2016-02-28 17:35:00-08:00</th>\n",
       "      <td>60.8</td>\n",
       "      <td>48.9</td>\n",
       "      <td>30.14</td>\n",
       "      <td>SSW</td>\n",
       "      <td>0.0</td>\n",
       "      <td>0.0</td>\n",
       "      <td>65</td>\n",
       "      <td>0.0</td>\n",
       "      <td>0.0</td>\n",
       "      <td>8.39</td>\n",
       "      <td>38.8</td>\n",
       "      <td>2</td>\n",
       "      <td>8</td>\n",
       "      <td>17</td>\n",
       "      <td>58.0</td>\n",
       "    </tr>\n",
       "    <tr>\n",
       "      <th>2016-02-28 17:40:00-08:00</th>\n",
       "      <td>60.6</td>\n",
       "      <td>49.6</td>\n",
       "      <td>30.13</td>\n",
       "      <td>South</td>\n",
       "      <td>0.0</td>\n",
       "      <td>0.0</td>\n",
       "      <td>67</td>\n",
       "      <td>0.0</td>\n",
       "      <td>0.0</td>\n",
       "      <td>6.21</td>\n",
       "      <td>38.8</td>\n",
       "      <td>2</td>\n",
       "      <td>8</td>\n",
       "      <td>17</td>\n",
       "      <td>58.0</td>\n",
       "    </tr>\n",
       "    <tr>\n",
       "      <th>2016-02-28 17:45:00-08:00</th>\n",
       "      <td>60.3</td>\n",
       "      <td>49.6</td>\n",
       "      <td>30.13</td>\n",
       "      <td>South</td>\n",
       "      <td>0.0</td>\n",
       "      <td>0.0</td>\n",
       "      <td>68</td>\n",
       "      <td>0.0</td>\n",
       "      <td>0.0</td>\n",
       "      <td>1.43</td>\n",
       "      <td>38.8</td>\n",
       "      <td>2</td>\n",
       "      <td>8</td>\n",
       "      <td>17</td>\n",
       "      <td>58.0</td>\n",
       "    </tr>\n",
       "    <tr>\n",
       "      <th>2016-02-28 17:50:00-08:00</th>\n",
       "      <td>60.3</td>\n",
       "      <td>49.6</td>\n",
       "      <td>30.13</td>\n",
       "      <td>South</td>\n",
       "      <td>0.0</td>\n",
       "      <td>0.0</td>\n",
       "      <td>68</td>\n",
       "      <td>0.0</td>\n",
       "      <td>0.0</td>\n",
       "      <td>1.43</td>\n",
       "      <td>38.8</td>\n",
       "      <td>2</td>\n",
       "      <td>8</td>\n",
       "      <td>17</td>\n",
       "      <td>58.0</td>\n",
       "    </tr>\n",
       "    <tr>\n",
       "      <th>2016-02-28 17:55:00-08:00</th>\n",
       "      <td>59.7</td>\n",
       "      <td>51.1</td>\n",
       "      <td>30.13</td>\n",
       "      <td>South</td>\n",
       "      <td>0.0</td>\n",
       "      <td>0.0</td>\n",
       "      <td>73</td>\n",
       "      <td>0.0</td>\n",
       "      <td>0.0</td>\n",
       "      <td>0.00</td>\n",
       "      <td>38.8</td>\n",
       "      <td>2</td>\n",
       "      <td>8</td>\n",
       "      <td>17</td>\n",
       "      <td>58.0</td>\n",
       "    </tr>\n",
       "  </tbody>\n",
       "</table>\n",
       "</div>"
      ],
      "text/plain": [
       "                           TemperatureF  DewpointF  PressureIn WindDirection  \\\n",
       "DateUTC                                                                        \n",
       "2016-02-28 17:35:00-08:00          60.8       48.9       30.14           SSW   \n",
       "2016-02-28 17:40:00-08:00          60.6       49.6       30.13         South   \n",
       "2016-02-28 17:45:00-08:00          60.3       49.6       30.13         South   \n",
       "2016-02-28 17:50:00-08:00          60.3       49.6       30.13         South   \n",
       "2016-02-28 17:55:00-08:00          59.7       51.1       30.13         South   \n",
       "\n",
       "                           WindSpeedMPH  WindSpeedGustMPH  Humidity  \\\n",
       "DateUTC                                                               \n",
       "2016-02-28 17:35:00-08:00           0.0               0.0        65   \n",
       "2016-02-28 17:40:00-08:00           0.0               0.0        67   \n",
       "2016-02-28 17:45:00-08:00           0.0               0.0        68   \n",
       "2016-02-28 17:50:00-08:00           0.0               0.0        68   \n",
       "2016-02-28 17:55:00-08:00           0.0               0.0        73   \n",
       "\n",
       "                           HourlyPrecipIn  dailyrainin  \\\n",
       "DateUTC                                                  \n",
       "2016-02-28 17:35:00-08:00             0.0          0.0   \n",
       "2016-02-28 17:40:00-08:00             0.0          0.0   \n",
       "2016-02-28 17:45:00-08:00             0.0          0.0   \n",
       "2016-02-28 17:50:00-08:00             0.0          0.0   \n",
       "2016-02-28 17:55:00-08:00             0.0          0.0   \n",
       "\n",
       "                           SolarRadiationWatts/m^2  forward_min month week  \\\n",
       "DateUTC                                                                      \n",
       "2016-02-28 17:35:00-08:00                     8.39         38.8     2    8   \n",
       "2016-02-28 17:40:00-08:00                     6.21         38.8     2    8   \n",
       "2016-02-28 17:45:00-08:00                     1.43         38.8     2    8   \n",
       "2016-02-28 17:50:00-08:00                     1.43         38.8     2    8   \n",
       "2016-02-28 17:55:00-08:00                     0.00         38.8     2    8   \n",
       "\n",
       "                          hour  forecast  \n",
       "DateUTC                                   \n",
       "2016-02-28 17:35:00-08:00   17      58.0  \n",
       "2016-02-28 17:40:00-08:00   17      58.0  \n",
       "2016-02-28 17:45:00-08:00   17      58.0  \n",
       "2016-02-28 17:50:00-08:00   17      58.0  \n",
       "2016-02-28 17:55:00-08:00   17      58.0  "
      ]
     },
     "execution_count": 140,
     "metadata": {},
     "output_type": "execute_result"
    }
   ],
   "source": [
    "forecasts = pd.read_csv(path+'forecast-min.csv', parse_dates=['time'], index_col='time', usecols=['time','forecast'], dtype={'forecast': 'float'})\n",
    "forecasts = forecasts.tz_localize('UTC', ambiguous='infer').tz_convert('US/Pacific')\n",
    "\n",
    "data = data.assign(forecast = forecasts.asof(data.index)).dropna()\n",
    "\n",
    "data.index = data.index.tz_convert('US/Pacific') # Adjust timezone after date-shifting above to avoid ambiguity which arises when not in UTC\n",
    "\n",
    "data.head()"
   ]
  },
  {
   "cell_type": "markdown",
   "metadata": {
    "ExecuteTime": {
     "end_time": "2017-08-08T19:54:46.098553Z",
     "start_time": "2017-08-08T19:54:46.094466Z"
    }
   },
   "source": [
    "## Build the data sequences\n",
    "\n",
    "Now we actually build the data sequences.  It takes a LONG time to run this; welcome to Python... I haven't been able to come up with a good way to get Pandas to do this more efficiently than having the (single-threaded!) loop in Python and calling many times over and over into Pandas native code.  There's possibly some clever way of using Pandas to handle the iteration though by using multiple resamples or shifts or something.  For now, we just run the calculation once then save the resulting data frame so that we can just re-load it and not have to repeat the iteration.  The iteration will need to be re-done though any time the sequence length is changed, or if the time slicing exponential thingie is changed above, or of course for new source data.  The `all_y` is very fast though, so we can adjust what we're trying to predict with no big penalty -- that doesn't need to be saved/loaded."
   ]
  },
  {
   "cell_type": "code",
   "execution_count": 141,
   "metadata": {
    "ExecuteTime": {
     "end_time": "2018-02-14T04:58:17.539079Z",
     "start_time": "2018-02-14T04:58:17.529446Z"
    },
    "init_cell": true
   },
   "outputs": [],
   "source": [
    "continuous_cols = data[['TemperatureF','DewpointF','PressureIn','WindSpeedMPH','WindSpeedGustMPH',\n",
    "                    'Humidity','HourlyPrecipIn','dailyrainin','SolarRadiationWatts/m^2','forecast']]\n",
    "categorical_cols = data[['WindDirection','month','week','hour']] # We'll be attaching embeddings to these"
   ]
  },
  {
   "cell_type": "code",
   "execution_count": 142,
   "metadata": {
    "ExecuteTime": {
     "end_time": "2018-02-14T04:58:20.502415Z",
     "start_time": "2018-02-14T04:58:17.776162Z"
    },
    "init_cell": true
   },
   "outputs": [
    {
     "name": "stderr",
     "output_type": "stream",
     "text": [
      "/home/ec2-user/anaconda3/envs/tensorflow_p36/lib/python3.6/site-packages/ipykernel/__main__.py:2: SettingWithCopyWarning: \n",
      "A value is trying to be set on a copy of a slice from a DataFrame.\n",
      "Try using .loc[row_indexer,col_indexer] = value instead\n",
      "\n",
      "See the caveats in the documentation: http://pandas.pydata.org/pandas-docs/stable/indexing.html#indexing-view-versus-copy\n",
      "  from ipykernel import kernelapp as app\n"
     ]
    },
    {
     "data": {
      "text/html": [
       "<div>\n",
       "<style scoped>\n",
       "    .dataframe tbody tr th:only-of-type {\n",
       "        vertical-align: middle;\n",
       "    }\n",
       "\n",
       "    .dataframe tbody tr th {\n",
       "        vertical-align: top;\n",
       "    }\n",
       "\n",
       "    .dataframe thead th {\n",
       "        text-align: right;\n",
       "    }\n",
       "</style>\n",
       "<table border=\"1\" class=\"dataframe\">\n",
       "  <thead>\n",
       "    <tr style=\"text-align: right;\">\n",
       "      <th></th>\n",
       "      <th>WindDirection</th>\n",
       "      <th>month</th>\n",
       "      <th>week</th>\n",
       "      <th>hour</th>\n",
       "    </tr>\n",
       "    <tr>\n",
       "      <th>DateUTC</th>\n",
       "      <th></th>\n",
       "      <th></th>\n",
       "      <th></th>\n",
       "      <th></th>\n",
       "    </tr>\n",
       "  </thead>\n",
       "  <tbody>\n",
       "    <tr>\n",
       "      <th>2016-02-28 17:35:00-08:00</th>\n",
       "      <td>10</td>\n",
       "      <td>1</td>\n",
       "      <td>7</td>\n",
       "      <td>17</td>\n",
       "    </tr>\n",
       "    <tr>\n",
       "      <th>2016-02-28 17:40:00-08:00</th>\n",
       "      <td>12</td>\n",
       "      <td>1</td>\n",
       "      <td>7</td>\n",
       "      <td>17</td>\n",
       "    </tr>\n",
       "    <tr>\n",
       "      <th>2016-02-28 17:45:00-08:00</th>\n",
       "      <td>12</td>\n",
       "      <td>1</td>\n",
       "      <td>7</td>\n",
       "      <td>17</td>\n",
       "    </tr>\n",
       "    <tr>\n",
       "      <th>2016-02-28 17:50:00-08:00</th>\n",
       "      <td>12</td>\n",
       "      <td>1</td>\n",
       "      <td>7</td>\n",
       "      <td>17</td>\n",
       "    </tr>\n",
       "    <tr>\n",
       "      <th>2016-02-28 17:55:00-08:00</th>\n",
       "      <td>12</td>\n",
       "      <td>1</td>\n",
       "      <td>7</td>\n",
       "      <td>17</td>\n",
       "    </tr>\n",
       "  </tbody>\n",
       "</table>\n",
       "</div>"
      ],
      "text/plain": [
       "                           WindDirection  month  week  hour\n",
       "DateUTC                                                    \n",
       "2016-02-28 17:35:00-08:00             10      1     7    17\n",
       "2016-02-28 17:40:00-08:00             12      1     7    17\n",
       "2016-02-28 17:45:00-08:00             12      1     7    17\n",
       "2016-02-28 17:50:00-08:00             12      1     7    17\n",
       "2016-02-28 17:55:00-08:00             12      1     7    17"
      ]
     },
     "execution_count": 142,
     "metadata": {},
     "output_type": "execute_result"
    }
   ],
   "source": [
    "for column in categorical_cols.columns:\n",
    "    categorical_cols[column] = categorical_cols[column].cat.codes\n",
    "categorical_cols.head()"
   ]
  },
  {
   "cell_type": "code",
   "execution_count": 143,
   "metadata": {
    "ExecuteTime": {
     "end_time": "2018-02-14T04:58:20.516387Z",
     "start_time": "2018-02-14T04:58:20.504071Z"
    },
    "init_cell": true
   },
   "outputs": [
    {
     "data": {
      "text/plain": [
       "((206205, 10), (206205, 4), (206205, 1), 46.28962100821998, 11.188003016304716)"
      ]
     },
     "execution_count": 143,
     "metadata": {},
     "output_type": "execute_result"
    }
   ],
   "source": [
    "continuous_x = continuous_cols.as_matrix()\n",
    "categorical_x = categorical_cols.as_matrix()\n",
    "\n",
    "# https://books.google.com/books?id=2cxHAQAAMAAJ&lpg=PA146&ots=vqGgxQr1Q_&dq=freezing%20walnut%20blossoms&pg=PA146#v=onepage&q=freezing%20walnut%20blossoms&f=false\n",
    "# ^ suggests that 31 is probably a good threshold to worry about, so we'll try and predict if we're going to fall below that.\n",
    "\n",
    "all_y = data.forward_min.as_matrix().reshape(-1,1)\n",
    "\n",
    "continuous_x.shape, categorical_x.shape, all_y.shape, all_y.mean(), all_y.std()"
   ]
  },
  {
   "cell_type": "markdown",
   "metadata": {},
   "source": [
    "## Split into Train/Validation\n",
    "\n",
    "We split the data into train & test data sets.  We'll train on the first half of the data and validate on the more recent half.  We ensure that each of train and test set are exact multiple of the sequence length, truncating any extra data; padding will lead to problems because the padding data will try and get modelled and reduce accuracy"
   ]
  },
  {
   "cell_type": "code",
   "execution_count": 144,
   "metadata": {
    "ExecuteTime": {
     "end_time": "2018-02-14T04:58:20.521135Z",
     "start_time": "2018-02-14T04:58:20.517991Z"
    },
    "init_cell": true
   },
   "outputs": [],
   "source": [
    "val_start = ((len(continuous_x) * 1 // 2) // seq_length) * seq_length\n",
    "val_end = (len(continuous_x)//seq_length) * seq_length"
   ]
  },
  {
   "cell_type": "code",
   "execution_count": 145,
   "metadata": {
    "ExecuteTime": {
     "end_time": "2018-02-14T04:58:20.534500Z",
     "start_time": "2018-02-14T04:58:20.522844Z"
    },
    "init_cell": true
   },
   "outputs": [
    {
     "data": {
      "text/plain": [
       "((102960, 10),\n",
       " (102960, 4),\n",
       " (102960, 1),\n",
       " (103104, 10),\n",
       " (103104, 4),\n",
       " (103104, 1),\n",
       " 48.506615190365196,\n",
       " 44.098410342954686)"
      ]
     },
     "execution_count": 145,
     "metadata": {},
     "output_type": "execute_result"
    }
   ],
   "source": [
    "train_cont_x, train_cat_x, train_y = continuous_x[:val_start], categorical_x[:val_start], all_y[:val_start]\n",
    "val_cont_x, val_cat_x, val_y = continuous_x[val_start:val_end], categorical_x[val_start:val_end], all_y[val_start:val_end]\n",
    "\n",
    "train_data = data.iloc[:val_start]\n",
    "validation_data = data.iloc[val_start:val_end]\n",
    "\n",
    "train_cont_x.shape, train_cat_x.shape, train_y.shape, val_cont_x.shape, val_cat_x.shape, val_y.shape, train_y.mean(), val_y.mean()"
   ]
  },
  {
   "cell_type": "markdown",
   "metadata": {},
   "source": [
    "## Create the sequences.\n",
    "\n",
    "Linear sequences are OK, but not super helpful, as we really want to see longer-term patterns.  LSTM will help with this, but we might be able to kick it up a notch by sampling the time sequence non-linearly, going back in time with fibonacci stepsize, or exponential growth in the index. eg if we have 6 steps, we would predict `[n+1]` using `[n],[n-1],[n-2],[n-3],[n-5],[n-8]` or `[n],[n-1],[n-2],[n-4],[n-8],[n-16]`; we can play with which of those works better."
   ]
  },
  {
   "cell_type": "code",
   "execution_count": 146,
   "metadata": {
    "ExecuteTime": {
     "end_time": "2018-02-14T04:58:20.804878Z",
     "start_time": "2018-02-14T04:58:20.536282Z"
    },
    "init_cell": true
   },
   "outputs": [
    {
     "data": {
      "text/plain": [
       "((715, 144, 10), (715, 144, 4), (715, 144, 1), (715, 144))"
      ]
     },
     "execution_count": 146,
     "metadata": {},
     "output_type": "execute_result"
    }
   ],
   "source": [
    "train_cont_in = np.stack([[train_cont_x[seq_start + i] for i in range(seq_length)] for seq_start in range(0, len(train_cont_x), seq_length)])\n",
    "train_cat_in = np.stack([[train_cat_x[seq_start + i] for i in range(seq_length)] for seq_start in range(0, len(train_cat_x), seq_length)])\n",
    "train_cat_out = np.stack([[train_y[seq_start + i] for i in range(seq_length)] for seq_start in range(0, len(train_y), seq_length)])\n",
    "\n",
    "# Weights: give more emphasis to the ones where the forecast is below threshold\n",
    "train_sample_weights = ((train_data.forward_min<31).as_matrix() * (fp_fn_ratio-1)+1).reshape(-1,seq_length)\n",
    "\n",
    "train_cont_in.shape, train_cat_in.shape, train_cat_out.shape,train_sample_weights.shape"
   ]
  },
  {
   "cell_type": "code",
   "execution_count": 147,
   "metadata": {
    "ExecuteTime": {
     "end_time": "2018-02-14T04:58:21.381623Z",
     "start_time": "2018-02-14T04:58:21.105706Z"
    },
    "init_cell": true
   },
   "outputs": [
    {
     "data": {
      "text/plain": [
       "((716, 144, 10), (716, 144, 4), (716, 144, 1))"
      ]
     },
     "execution_count": 147,
     "metadata": {},
     "output_type": "execute_result"
    }
   ],
   "source": [
    "val_cont_in = np.stack([[val_cont_x[i+j-1] for i in range(seq_length)] for j in range(0, len(val_cont_x), seq_length)])\n",
    "val_cat_in = np.stack([[val_cat_x[i+j-1] for i in range(seq_length)] for j in range(0, len(val_cat_x), seq_length)])\n",
    "val_cat_out = np.stack([[val_y[i+j-1] for i in range(seq_length)] for j in range(0, len(val_y), seq_length)])\n",
    "\n",
    "val_cont_in.shape, val_cat_in.shape, val_cat_out.shape"
   ]
  },
  {
   "cell_type": "code",
   "execution_count": 148,
   "metadata": {
    "ExecuteTime": {
     "end_time": "2018-02-14T04:58:21.388264Z",
     "start_time": "2018-02-14T04:58:21.383468Z"
    },
    "init_cell": true
   },
   "outputs": [],
   "source": [
    "train_inputs = [train_cont_in]\n",
    "val_inputs = [val_cont_in]\n",
    "for i in range(categorical_x.shape[1]):\n",
    "    train_inputs.append(train_cat_in[:,:,i].reshape(-1,seq_length,1))\n",
    "    val_inputs.append(val_cat_in[:,:,i].reshape(-1,seq_length,1))"
   ]
  },
  {
   "cell_type": "markdown",
   "metadata": {},
   "source": [
    "# The Model\n",
    "\n",
    "We're going to loop through the categoricals and assign an embedding to each, then concatenate those embeddings with all the continuous inputs, and then feed that whole thing into an LSTM"
   ]
  },
  {
   "cell_type": "code",
   "execution_count": 152,
   "metadata": {
    "ExecuteTime": {
     "end_time": "2018-02-14T04:59:34.075461Z",
     "start_time": "2018-02-14T04:59:33.420642Z"
    },
    "init_cell": true,
    "scrolled": false
   },
   "outputs": [
    {
     "name": "stdout",
     "output_type": "stream",
     "text": [
      "__________________________________________________________________________________________________\n",
      "Layer (type)                    Output Shape         Param #     Connected to                     \n",
      "==================================================================================================\n",
      "WindDirection_code_input (Input (None, 144, 1)       0                                            \n",
      "__________________________________________________________________________________________________\n",
      "month_code_input (InputLayer)   (None, 144, 1)       0                                            \n",
      "__________________________________________________________________________________________________\n",
      "week_code_input (InputLayer)    (None, 144, 1)       0                                            \n",
      "__________________________________________________________________________________________________\n",
      "hour_code_input (InputLayer)    (None, 144, 1)       0                                            \n",
      "__________________________________________________________________________________________________\n",
      "Continuous_inputs (InputLayer)  (None, 144, 10)      0                                            \n",
      "__________________________________________________________________________________________________\n",
      "WindDirection_embedding (Embedd (None, 144, 3)       48          WindDirection_code_input[0][0]   \n",
      "__________________________________________________________________________________________________\n",
      "month_embedding (Embedding)     (None, 144, 3)       36          month_code_input[0][0]           \n",
      "__________________________________________________________________________________________________\n",
      "week_embedding (Embedding)      (None, 144, 4)       208         week_code_input[0][0]            \n",
      "__________________________________________________________________________________________________\n",
      "hour_embedding (Embedding)      (None, 144, 4)       96          hour_code_input[0][0]            \n",
      "__________________________________________________________________________________________________\n",
      "batch_normalization_76 (BatchNo (None, 144, 10)      40          Continuous_inputs[0][0]          \n",
      "__________________________________________________________________________________________________\n",
      "WindDirection_reshape (Reshape) (None, 144, 3)       0           WindDirection_embedding[0][0]    \n",
      "__________________________________________________________________________________________________\n",
      "month_reshape (Reshape)         (None, 144, 3)       0           month_embedding[0][0]            \n",
      "__________________________________________________________________________________________________\n",
      "week_reshape (Reshape)          (None, 144, 4)       0           week_embedding[0][0]             \n",
      "__________________________________________________________________________________________________\n",
      "hour_reshape (Reshape)          (None, 144, 4)       0           hour_embedding[0][0]             \n",
      "__________________________________________________________________________________________________\n",
      "Merge_inputs (Concatenate)      (None, 144, 24)      0           batch_normalization_76[0][0]     \n",
      "                                                                 WindDirection_reshape[0][0]      \n",
      "                                                                 month_reshape[0][0]              \n",
      "                                                                 week_reshape[0][0]               \n",
      "                                                                 hour_reshape[0][0]               \n",
      "__________________________________________________________________________________________________\n",
      "dropout_45 (Dropout)            (None, 144, 24)      0           Merge_inputs[0][0]               \n",
      "__________________________________________________________________________________________________\n",
      "conv1d_22 (Conv1D)              (None, 144, 144)     10512       dropout_45[0][0]                 \n",
      "__________________________________________________________________________________________________\n",
      "p_re_lu_43 (PReLU)              (None, 144, 144)     20736       conv1d_22[0][0]                  \n",
      "__________________________________________________________________________________________________\n",
      "batch_normalization_77 (BatchNo (None, 144, 144)     576         p_re_lu_43[0][0]                 \n",
      "__________________________________________________________________________________________________\n",
      "conv1d_23 (Conv1D)              (None, 144, 72)      31176       batch_normalization_77[0][0]     \n",
      "__________________________________________________________________________________________________\n",
      "p_re_lu_44 (PReLU)              (None, 144, 72)      10368       conv1d_23[0][0]                  \n",
      "__________________________________________________________________________________________________\n",
      "batch_normalization_78 (BatchNo (None, 144, 72)      288         p_re_lu_44[0][0]                 \n",
      "__________________________________________________________________________________________________\n",
      "conv1d_24 (Conv1D)              (None, 144, 36)      7812        batch_normalization_78[0][0]     \n",
      "__________________________________________________________________________________________________\n",
      "p_re_lu_45 (PReLU)              (None, 144, 36)      5184        conv1d_24[0][0]                  \n",
      "__________________________________________________________________________________________________\n",
      "batch_normalization_79 (BatchNo (None, 144, 36)      144         p_re_lu_45[0][0]                 \n",
      "__________________________________________________________________________________________________\n",
      "dropout_46 (Dropout)            (None, 144, 36)      0           batch_normalization_79[0][0]     \n",
      "__________________________________________________________________________________________________\n",
      "Output (Dense)                  (None, 144, 1)       37          dropout_46[0][0]                 \n",
      "==================================================================================================\n",
      "Total params: 87,261\n",
      "Trainable params: 86,737\n",
      "Non-trainable params: 524\n",
      "__________________________________________________________________________________________________\n"
     ]
    }
   ],
   "source": [
    "continuous_inputs=Input(shape=(seq_length,continuous_x.shape[1],), name='Continuous_inputs')\n",
    "inputs=[continuous_inputs]\n",
    "\n",
    "normalized=BatchNormalization()(continuous_inputs)\n",
    "model=normalized\n",
    "\n",
    "embedding_layers=[normalized]\n",
    "\n",
    "for i in range(categorical_x.shape[1]):\n",
    "    num_values = len(np.unique(categorical_x[:,i]))\n",
    "    embed_size = math.ceil(math.log(num_values))\n",
    "    if embed_size > 50:\n",
    "        embed_size = 50\n",
    "    input_layer = Input(shape=(seq_length,1,), name=categorical_cols.columns[i] + '_code_input')\n",
    "    inputs.append(input_layer)\n",
    "    embedding_layer = Embedding(input_dim=num_values, output_dim=embed_size, input_length=seq_length, name=categorical_cols.columns[i] + '_embedding')(input_layer)\n",
    "    reshape = Reshape((seq_length,embed_size,), name=categorical_cols.columns[i] + '_reshape')(embedding_layer)\n",
    "    embedding_layers.append(reshape)\n",
    "\n",
    "model=Concatenate(name='Merge_inputs')(embedding_layers)\n",
    "\n",
    "model=Dropout(0.75)(model)\n",
    "model=Conv1D(filters=seq_length,kernel_size=3,padding='causal')(model)\n",
    "model=keras.layers.advanced_activations.PReLU()(model)\n",
    "model=BatchNormalization()(model)\n",
    "\n",
    "model=Conv1D(filters=seq_length//2,kernel_size=3,padding='causal')(model)\n",
    "model=keras.layers.advanced_activations.PReLU()(model)\n",
    "model=BatchNormalization()(model)\n",
    "\n",
    "model=Conv1D(filters=seq_length//4,kernel_size=3,padding='causal')(model)\n",
    "model=keras.layers.advanced_activations.PReLU()(model)\n",
    "model=BatchNormalization()(model)\n",
    "\n",
    "model=Dropout(0.75)(model)\n",
    "model=Dense(1, activation='linear', name='Output')(model)\n",
    "\n",
    "model=Model(inputs=inputs,outputs=model)\n",
    "model.compile(Nadam(), 'mae', sample_weight_mode='temporal')\n",
    "model.summary()"
   ]
  },
  {
   "cell_type": "markdown",
   "metadata": {},
   "source": [
    "# Training run\n",
    "\n",
    "The callback function here will plot a short graph every few epochs to give an indication of how many, and how severe are the false positives & false negatives predicted by the model against the validation data.  Peaks are times where the forward temperature *did* drop below the threshold but the model did not predict so; valleys are where the model predicts a threshold break but the weather did not actually get that cold.\n",
    "\n",
    "I also have a callback to automatically lower the learning rate when progress stalls."
   ]
  },
  {
   "cell_type": "code",
   "execution_count": 153,
   "metadata": {
    "ExecuteTime": {
     "end_time": "2018-02-14T05:00:26.165540Z",
     "start_time": "2018-02-14T04:59:38.524287Z"
    }
   },
   "outputs": [
    {
     "name": "stdout",
     "output_type": "stream",
     "text": [
      "Train on 715 samples, validate on 716 samples\n",
      "Epoch 1/20\n",
      " - 8s - loss: 50.0114 - val_loss: 45.0061\n",
      "Epoch 2/20\n",
      " - 2s - loss: 45.1153 - val_loss: 35.0636\n",
      "Epoch 3/20\n",
      " - 2s - loss: 37.3795 - val_loss: 18.0566\n",
      "Epoch 4/20\n",
      " - 2s - loss: 25.4747 - val_loss: 15.2502\n",
      "Epoch 5/20\n",
      " - 2s - loss: 16.0944 - val_loss: 4.9551\n",
      "Epoch 6/20\n",
      " - 2s - loss: 14.3056 - val_loss: 5.3418\n",
      "Epoch 7/20\n",
      " - 2s - loss: 13.9651 - val_loss: 5.8481\n",
      "Epoch 8/20\n",
      " - 2s - loss: 13.7711 - val_loss: 5.7024\n",
      "Epoch 9/20\n",
      "\n",
      "Epoch 00009: ReduceLROnPlateau reducing learning rate to 0.0006000000284984708.\n",
      " - 4s - loss: 13.5064 - val_loss: 5.5769\n",
      "Epoch 10/20\n"
     ]
    },
    {
     "data": {
      "image/png": "[encoded data removed]",
      "text/plain": [
       "<matplotlib.figure.Figure at 0x7f8e20b65c18>"
      ]
     },
     "metadata": {},
     "output_type": "display_data"
    },
    {
     "name": "stdout",
     "output_type": "stream",
     "text": [
      " - 4s - loss: 13.6222 - val_loss: 5.3463\n",
      "Epoch 11/20\n",
      " - 2s - loss: 13.4183 - val_loss: 5.2904\n",
      "Epoch 12/20\n",
      "\n",
      "Epoch 00012: ReduceLROnPlateau reducing learning rate to 0.00018000000854954124.\n",
      " - 2s - loss: 13.6419 - val_loss: 5.3503\n",
      "Epoch 13/20\n",
      " - 2s - loss: 13.3726 - val_loss: 5.3589\n",
      "Epoch 14/20\n",
      " - 2s - loss: 13.3471 - val_loss: 5.3920\n",
      "Epoch 15/20\n",
      "\n",
      "Epoch 00015: ReduceLROnPlateau reducing learning rate to 5.400000081863254e-05.\n",
      " - 2s - loss: 13.2535 - val_loss: 5.3874\n",
      "Epoch 16/20\n",
      " - 2s - loss: 13.3571 - val_loss: 5.3749\n",
      "Epoch 17/20\n",
      " - 2s - loss: 13.3598 - val_loss: 5.3807\n",
      "Epoch 18/20\n",
      "\n",
      "Epoch 00018: ReduceLROnPlateau reducing learning rate to 1.6200000027311033e-05.\n",
      " - 2s - loss: 13.4523 - val_loss: 5.3861\n",
      "Epoch 19/20\n",
      " - 2s - loss: 13.3787 - val_loss: 5.3790\n",
      "Epoch 20/20\n"
     ]
    },
    {
     "data": {
      "image/png": "[encoded data removed]",
      "text/plain": [
       "<matplotlib.figure.Figure at 0x7f8e20b61e10>"
      ]
     },
     "metadata": {},
     "output_type": "display_data"
    },
    {
     "name": "stdout",
     "output_type": "stream",
     "text": [
      " - 2s - loss: 13.4162 - val_loss: 5.3868\n"
     ]
    }
   ],
   "source": [
    "class GraphCallback(keras.callbacks.Callback):\n",
    "    def on_epoch_end(self, epoch, logs={}):\n",
    "        if epoch%10==9:\n",
    "            plt.figure(figsize=(24,1))\n",
    "            plt.plot((val_cat_out-model.predict(val_inputs, batch_size=batch_size)).reshape(-1,1), 'r', lw=1)\n",
    "            plt.axhline(0.5, color='r', ls='dashed', lw=0.5, alpha=0.5)\n",
    "            plt.axhline(-0.5, color='r', ls='dashed', lw=0.5, alpha=0.5)\n",
    "            plt.show()\n",
    "graph_cb = GraphCallback()\n",
    "\n",
    "reduce_lr = ReduceLROnPlateau(factor=0.3, patience=3, verbose=1)\n",
    "\n",
    "history = model.fit(train_inputs, train_cat_out,\n",
    "          epochs=20,\n",
    "          batch_size=batch_size,\n",
    "          verbose=2,\n",
    "          validation_data=(val_inputs, val_cat_out),\n",
    "          sample_weight=train_sample_weights,\n",
    "          callbacks=[reduce_lr, graph_cb])"
   ]
  },
  {
   "cell_type": "markdown",
   "metadata": {},
   "source": [
    "# Evaluate model"
   ]
  },
  {
   "cell_type": "code",
   "execution_count": 154,
   "metadata": {
    "ExecuteTime": {
     "end_time": "2018-02-14T05:00:28.357479Z",
     "start_time": "2018-02-14T05:00:28.040023Z"
    }
   },
   "outputs": [
    {
     "name": "stdout",
     "output_type": "stream",
     "text": [
      "dict_keys(['val_loss', 'loss', 'lr'])\n"
     ]
    },
    {
     "data": {
      "image/png": "[encoded data removed]",
      "text/plain": [
       "<matplotlib.figure.Figure at 0x7f8e2285b898>"
      ]
     },
     "metadata": {},
     "output_type": "display_data"
    }
   ],
   "source": [
    "print(history.history.keys())\n",
    "fig, ax1 = plt.subplots()\n",
    "ax2 = ax1.twinx()\n",
    "ax1.set_yscale('log')\n",
    "ax1.plot(history.history['loss'], color='r')\n",
    "ax1.plot(history.history['val_loss'], color='g')\n",
    "ax1.set_ylabel('loss')\n",
    "ax1.legend(['train', 'test'], loc='lower left')\n",
    "ax2.plot(history.history['lr'], color='b')\n",
    "ax2.set_ylabel('lr')\n",
    "ax2.legend(['lr'], loc='center right')\n",
    "plt.xlabel('epoch')\n",
    "plt.show()"
   ]
  },
  {
   "cell_type": "code",
   "execution_count": 155,
   "metadata": {
    "ExecuteTime": {
     "end_time": "2018-02-14T05:00:48.118021Z",
     "start_time": "2018-02-14T05:00:47.377270Z"
    }
   },
   "outputs": [
    {
     "data": {
      "image/png": "[encoded data removed]",
      "text/plain": [
       "<matplotlib.figure.Figure at 0x7f8e2286c780>"
      ]
     },
     "metadata": {},
     "output_type": "display_data"
    }
   ],
   "source": [
    "fig, ax1 = plt.subplots(figsize=(24,8))\n",
    "# ax2 = ax1.twinx()\n",
    "# ax1.plot(validation_data.TemperatureF.as_matrix(), 'g', lw=1)\n",
    "ax1.plot(validation_data.forward_min.as_matrix(), 'c', lw=1)\n",
    "ax1.plot(model.predict(val_inputs, batch_size=batch_size).reshape(-1,1), 'r', lw=1)\n",
    "# ax2.axhline(0.5, color='r', ls='dashed', lw=0.5, alpha=0.5)\n",
    "# ax2.axhline(-0.5, color='r', ls='dashed', lw=0.5, alpha=0.5)\n",
    "\n",
    "ax1.axhline(31, ls='dashed', lw=0.5, alpha=0.5)\n",
    "plt.show()"
   ]
  },
  {
   "cell_type": "code",
   "execution_count": null,
   "metadata": {
    "ExecuteTime": {
     "end_time": "2018-02-14T04:15:31.593572Z",
     "start_time": "2018-02-14T04:15:30.249448Z"
    }
   },
   "outputs": [],
   "source": [
    "prediction_data = validation_data.assign(prediction = model.predict(val_inputs, batch_size=batch_size).reshape(-1,1))\n",
    "prediction_data.index = prediction_data.index.tz_convert('UTC')\n",
    "prediction_data = prediction_data.assign(fn = (prediction_data.forward_min<=31).astype(int) * (prediction_data.prediction>31).astype(int))\n",
    "prediction_data = prediction_data.assign(fp = (prediction_data.forward_min>=31).astype(int) * (prediction_data.prediction<31).astype(int))"
   ]
  },
  {
   "cell_type": "code",
   "execution_count": null,
   "metadata": {
    "ExecuteTime": {
     "end_time": "2018-02-14T04:15:55.252026Z",
     "start_time": "2018-02-14T04:15:53.759618Z"
    }
   },
   "outputs": [],
   "source": [
    "resample = '12H'\n",
    "extract = prediction_data.resample('12H').min()\n",
    "extract.head()"
   ]
  },
  {
   "cell_type": "code",
   "execution_count": null,
   "metadata": {
    "ExecuteTime": {
     "end_time": "2018-01-30T23:40:12.381270Z",
     "start_time": "2018-01-30T23:40:12.061636Z"
    }
   },
   "outputs": [],
   "source": [
    "model.save(model_path+'model.h5')"
   ]
  }
 ],
 "metadata": {
  "celltoolbar": "Initialization Cell",
  "kernelspec": {
   "display_name": "Environment (conda_tensorflow_p36)",
   "language": "python",
   "name": "conda_tensorflow_p36"
  },
  "language_info": {
   "codemirror_mode": {
    "name": "ipython",
    "version": 3
   },
   "file_extension": ".py",
   "mimetype": "text/x-python",
   "name": "python",
   "nbconvert_exporter": "python",
   "pygments_lexer": "ipython3",
   "version": "3.6.4"
  },
  "toc": {
   "nav_menu": {
    "height": "12px",
    "width": "252px"
   },
   "number_sections": true,
   "sideBar": true,
   "skip_h1_title": false,
   "title_cell": "Table of Contents",
   "title_sidebar": "Contents",
   "toc_cell": false,
   "toc_position": {},
   "toc_section_display": "block",
   "toc_window_display": true
  }
 },
 "nbformat": 4,
 "nbformat_minor": 2
}
